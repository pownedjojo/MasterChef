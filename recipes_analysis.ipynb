{
 "cells": [
  {
   "cell_type": "markdown",
   "metadata": {},
   "source": [
    "## Loading and cleaning the dataset"
   ]
  },
  {
   "cell_type": "code",
   "execution_count": 10,
   "metadata": {},
   "outputs": [
    {
     "data": {
      "text/html": [
       "<div>\n",
       "<style scoped>\n",
       "    .dataframe tbody tr th:only-of-type {\n",
       "        vertical-align: middle;\n",
       "    }\n",
       "\n",
       "    .dataframe tbody tr th {\n",
       "        vertical-align: top;\n",
       "    }\n",
       "\n",
       "    .dataframe thead th {\n",
       "        text-align: right;\n",
       "    }\n",
       "</style>\n",
       "<table border=\"1\" class=\"dataframe\">\n",
       "  <thead>\n",
       "    <tr style=\"text-align: right;\">\n",
       "      <th></th>\n",
       "      <th>recipe_id</th>\n",
       "      <th>num_ingredients</th>\n",
       "    </tr>\n",
       "  </thead>\n",
       "  <tbody>\n",
       "    <tr>\n",
       "      <th>count</th>\n",
       "      <td>376.000000</td>\n",
       "      <td>376.000000</td>\n",
       "    </tr>\n",
       "    <tr>\n",
       "      <th>mean</th>\n",
       "      <td>9789.132979</td>\n",
       "      <td>7.893617</td>\n",
       "    </tr>\n",
       "    <tr>\n",
       "      <th>std</th>\n",
       "      <td>1613.422330</td>\n",
       "      <td>1.696856</td>\n",
       "    </tr>\n",
       "    <tr>\n",
       "      <th>min</th>\n",
       "      <td>7165.000000</td>\n",
       "      <td>4.000000</td>\n",
       "    </tr>\n",
       "    <tr>\n",
       "      <th>25%</th>\n",
       "      <td>8490.250000</td>\n",
       "      <td>7.000000</td>\n",
       "    </tr>\n",
       "    <tr>\n",
       "      <th>50%</th>\n",
       "      <td>9848.000000</td>\n",
       "      <td>8.000000</td>\n",
       "    </tr>\n",
       "    <tr>\n",
       "      <th>75%</th>\n",
       "      <td>11067.750000</td>\n",
       "      <td>9.000000</td>\n",
       "    </tr>\n",
       "    <tr>\n",
       "      <th>max</th>\n",
       "      <td>12638.000000</td>\n",
       "      <td>14.000000</td>\n",
       "    </tr>\n",
       "  </tbody>\n",
       "</table>\n",
       "</div>"
      ],
      "text/plain": [
       "          recipe_id  num_ingredients\n",
       "count    376.000000       376.000000\n",
       "mean    9789.132979         7.893617\n",
       "std     1613.422330         1.696856\n",
       "min     7165.000000         4.000000\n",
       "25%     8490.250000         7.000000\n",
       "50%     9848.000000         8.000000\n",
       "75%    11067.750000         9.000000\n",
       "max    12638.000000        14.000000"
      ]
     },
     "execution_count": 10,
     "metadata": {},
     "output_type": "execute_result"
    }
   ],
   "source": [
    "import pandas as pd\n",
    "import re\n",
    "from collections import Counter\n",
    "import matplotlib.pyplot as plt\n",
    "from sklearn.feature_extraction.text import TfidfVectorizer\n",
    "from sklearn.metrics.pairwise import cosine_similarity\n",
    "from sklearn.cluster import KMeans\n",
    "import numpy as np\n",
    "import plotly.express as px\n",
    "\n",
    "pd.set_option('display.max_colwidth', None)\n",
    "\n",
    "df_recipes = pd.read_csv('recipes.csv')\n",
    "df_recipes = df_recipes.drop_duplicates(subset='recipe_id', keep='first')\n",
    "\n",
    "df_recipes['recipe_id'] = pd.to_numeric(df_recipes['recipe_id'], errors='coerce')\n",
    "df_recipes.dropna(subset=['recipe_id'], inplace=True)\n",
    "\n",
    "def remove_text_inside_parentheses(text):\n",
    "    return re.sub(r'\\([^)]*\\)', '', text)\n",
    "\n",
    "## Create column parsed_ingredients\n",
    "df_recipes['parsed_ingredients'] = pd.Series(dtype='object')\n",
    "for index, row in df_recipes.iterrows():\n",
    "    ingredients_list = row['recipe_ingredients'].split('\\n')\n",
    "    cleaned_ingredient_names = set()\n",
    "    for ingredient in ingredients_list:\n",
    "        # Remove text inside parentheses\n",
    "        ingredient = remove_text_inside_parentheses(ingredient)\n",
    "        # Remove text after \"-\" and \":\" then split by ',' and take the first part\n",
    "        ingredient_name = ingredient.split('-')[0].split(':')[0].split(',')[0].lower().strip()\n",
    "        cleaned_ingredient_names.add(ingredient_name)\n",
    "    df_recipes.at[index, 'parsed_ingredients'] = cleaned_ingredient_names\n",
    "\n",
    "## Create column num_unique_ingredients to count the number of ingredients for each recipe\n",
    "df_recipes['num_ingredients'] = df_recipes['parsed_ingredients'].apply(lambda x: len([ingredient for ingredient in x if ingredient]))\n",
    "\n",
    "df_recipes.describe()"
   ]
  },
  {
   "cell_type": "markdown",
   "metadata": {},
   "source": [
    "## Ingredient Frequency Analysis"
   ]
  },
  {
   "cell_type": "code",
   "execution_count": 15,
   "metadata": {},
   "outputs": [
    {
     "data": {
      "application/vnd.plotly.v1+json": {
       "config": {
        "plotlyServerURL": "https://plot.ly"
       },
       "data": [
        {
         "alignmentgroup": "True",
         "hovertemplate": "index=%{x}<br>Frequency=%{y}<extra></extra>",
         "legendgroup": "",
         "marker": {
          "color": "#636efa",
          "pattern": {
           "shape": ""
          }
         },
         "name": "",
         "offsetgroup": "",
         "orientation": "v",
         "showlegend": false,
         "textposition": "auto",
         "type": "bar",
         "x": [
          "gousse d'ail",
          "oignon jaune",
          "carotte",
          "oignon rouge",
          "citron jaune",
          "pomme de terre",
          "fromage blanc",
          "gingembre",
          "piment oiseau",
          "persil plat",
          "coriandre",
          "échalote",
          "riz basmati bio",
          "tomate",
          "sauce soja salée",
          "courgette",
          "mélange de salade",
          "filet de poulet",
          "crème liquide",
          "concombre noa",
          "crème épaisse",
          "pousses d'épinards",
          "citron vert",
          "haut de cuisse de poulet désossé",
          "concentré de tomates"
         ],
         "xaxis": "x",
         "y": [
          192,
          163,
          82,
          75,
          63,
          59,
          47,
          44,
          42,
          41,
          38,
          37,
          36,
          35,
          35,
          32,
          31,
          31,
          31,
          29,
          29,
          24,
          23,
          22,
          22
         ],
         "yaxis": "y"
        }
       ],
       "layout": {
        "barmode": "relative",
        "legend": {
         "tracegroupgap": 0
        },
        "plot_bgcolor": "white",
        "template": {
         "data": {
          "bar": [
           {
            "error_x": {
             "color": "#2a3f5f"
            },
            "error_y": {
             "color": "#2a3f5f"
            },
            "marker": {
             "line": {
              "color": "#E5ECF6",
              "width": 0.5
             },
             "pattern": {
              "fillmode": "overlay",
              "size": 10,
              "solidity": 0.2
             }
            },
            "type": "bar"
           }
          ],
          "barpolar": [
           {
            "marker": {
             "line": {
              "color": "#E5ECF6",
              "width": 0.5
             },
             "pattern": {
              "fillmode": "overlay",
              "size": 10,
              "solidity": 0.2
             }
            },
            "type": "barpolar"
           }
          ],
          "carpet": [
           {
            "aaxis": {
             "endlinecolor": "#2a3f5f",
             "gridcolor": "white",
             "linecolor": "white",
             "minorgridcolor": "white",
             "startlinecolor": "#2a3f5f"
            },
            "baxis": {
             "endlinecolor": "#2a3f5f",
             "gridcolor": "white",
             "linecolor": "white",
             "minorgridcolor": "white",
             "startlinecolor": "#2a3f5f"
            },
            "type": "carpet"
           }
          ],
          "choropleth": [
           {
            "colorbar": {
             "outlinewidth": 0,
             "ticks": ""
            },
            "type": "choropleth"
           }
          ],
          "contour": [
           {
            "colorbar": {
             "outlinewidth": 0,
             "ticks": ""
            },
            "colorscale": [
             [
              0,
              "#0d0887"
             ],
             [
              0.1111111111111111,
              "#46039f"
             ],
             [
              0.2222222222222222,
              "#7201a8"
             ],
             [
              0.3333333333333333,
              "#9c179e"
             ],
             [
              0.4444444444444444,
              "#bd3786"
             ],
             [
              0.5555555555555556,
              "#d8576b"
             ],
             [
              0.6666666666666666,
              "#ed7953"
             ],
             [
              0.7777777777777778,
              "#fb9f3a"
             ],
             [
              0.8888888888888888,
              "#fdca26"
             ],
             [
              1,
              "#f0f921"
             ]
            ],
            "type": "contour"
           }
          ],
          "contourcarpet": [
           {
            "colorbar": {
             "outlinewidth": 0,
             "ticks": ""
            },
            "type": "contourcarpet"
           }
          ],
          "heatmap": [
           {
            "colorbar": {
             "outlinewidth": 0,
             "ticks": ""
            },
            "colorscale": [
             [
              0,
              "#0d0887"
             ],
             [
              0.1111111111111111,
              "#46039f"
             ],
             [
              0.2222222222222222,
              "#7201a8"
             ],
             [
              0.3333333333333333,
              "#9c179e"
             ],
             [
              0.4444444444444444,
              "#bd3786"
             ],
             [
              0.5555555555555556,
              "#d8576b"
             ],
             [
              0.6666666666666666,
              "#ed7953"
             ],
             [
              0.7777777777777778,
              "#fb9f3a"
             ],
             [
              0.8888888888888888,
              "#fdca26"
             ],
             [
              1,
              "#f0f921"
             ]
            ],
            "type": "heatmap"
           }
          ],
          "heatmapgl": [
           {
            "colorbar": {
             "outlinewidth": 0,
             "ticks": ""
            },
            "colorscale": [
             [
              0,
              "#0d0887"
             ],
             [
              0.1111111111111111,
              "#46039f"
             ],
             [
              0.2222222222222222,
              "#7201a8"
             ],
             [
              0.3333333333333333,
              "#9c179e"
             ],
             [
              0.4444444444444444,
              "#bd3786"
             ],
             [
              0.5555555555555556,
              "#d8576b"
             ],
             [
              0.6666666666666666,
              "#ed7953"
             ],
             [
              0.7777777777777778,
              "#fb9f3a"
             ],
             [
              0.8888888888888888,
              "#fdca26"
             ],
             [
              1,
              "#f0f921"
             ]
            ],
            "type": "heatmapgl"
           }
          ],
          "histogram": [
           {
            "marker": {
             "pattern": {
              "fillmode": "overlay",
              "size": 10,
              "solidity": 0.2
             }
            },
            "type": "histogram"
           }
          ],
          "histogram2d": [
           {
            "colorbar": {
             "outlinewidth": 0,
             "ticks": ""
            },
            "colorscale": [
             [
              0,
              "#0d0887"
             ],
             [
              0.1111111111111111,
              "#46039f"
             ],
             [
              0.2222222222222222,
              "#7201a8"
             ],
             [
              0.3333333333333333,
              "#9c179e"
             ],
             [
              0.4444444444444444,
              "#bd3786"
             ],
             [
              0.5555555555555556,
              "#d8576b"
             ],
             [
              0.6666666666666666,
              "#ed7953"
             ],
             [
              0.7777777777777778,
              "#fb9f3a"
             ],
             [
              0.8888888888888888,
              "#fdca26"
             ],
             [
              1,
              "#f0f921"
             ]
            ],
            "type": "histogram2d"
           }
          ],
          "histogram2dcontour": [
           {
            "colorbar": {
             "outlinewidth": 0,
             "ticks": ""
            },
            "colorscale": [
             [
              0,
              "#0d0887"
             ],
             [
              0.1111111111111111,
              "#46039f"
             ],
             [
              0.2222222222222222,
              "#7201a8"
             ],
             [
              0.3333333333333333,
              "#9c179e"
             ],
             [
              0.4444444444444444,
              "#bd3786"
             ],
             [
              0.5555555555555556,
              "#d8576b"
             ],
             [
              0.6666666666666666,
              "#ed7953"
             ],
             [
              0.7777777777777778,
              "#fb9f3a"
             ],
             [
              0.8888888888888888,
              "#fdca26"
             ],
             [
              1,
              "#f0f921"
             ]
            ],
            "type": "histogram2dcontour"
           }
          ],
          "mesh3d": [
           {
            "colorbar": {
             "outlinewidth": 0,
             "ticks": ""
            },
            "type": "mesh3d"
           }
          ],
          "parcoords": [
           {
            "line": {
             "colorbar": {
              "outlinewidth": 0,
              "ticks": ""
             }
            },
            "type": "parcoords"
           }
          ],
          "pie": [
           {
            "automargin": true,
            "type": "pie"
           }
          ],
          "scatter": [
           {
            "fillpattern": {
             "fillmode": "overlay",
             "size": 10,
             "solidity": 0.2
            },
            "type": "scatter"
           }
          ],
          "scatter3d": [
           {
            "line": {
             "colorbar": {
              "outlinewidth": 0,
              "ticks": ""
             }
            },
            "marker": {
             "colorbar": {
              "outlinewidth": 0,
              "ticks": ""
             }
            },
            "type": "scatter3d"
           }
          ],
          "scattercarpet": [
           {
            "marker": {
             "colorbar": {
              "outlinewidth": 0,
              "ticks": ""
             }
            },
            "type": "scattercarpet"
           }
          ],
          "scattergeo": [
           {
            "marker": {
             "colorbar": {
              "outlinewidth": 0,
              "ticks": ""
             }
            },
            "type": "scattergeo"
           }
          ],
          "scattergl": [
           {
            "marker": {
             "colorbar": {
              "outlinewidth": 0,
              "ticks": ""
             }
            },
            "type": "scattergl"
           }
          ],
          "scattermapbox": [
           {
            "marker": {
             "colorbar": {
              "outlinewidth": 0,
              "ticks": ""
             }
            },
            "type": "scattermapbox"
           }
          ],
          "scatterpolar": [
           {
            "marker": {
             "colorbar": {
              "outlinewidth": 0,
              "ticks": ""
             }
            },
            "type": "scatterpolar"
           }
          ],
          "scatterpolargl": [
           {
            "marker": {
             "colorbar": {
              "outlinewidth": 0,
              "ticks": ""
             }
            },
            "type": "scatterpolargl"
           }
          ],
          "scatterternary": [
           {
            "marker": {
             "colorbar": {
              "outlinewidth": 0,
              "ticks": ""
             }
            },
            "type": "scatterternary"
           }
          ],
          "surface": [
           {
            "colorbar": {
             "outlinewidth": 0,
             "ticks": ""
            },
            "colorscale": [
             [
              0,
              "#0d0887"
             ],
             [
              0.1111111111111111,
              "#46039f"
             ],
             [
              0.2222222222222222,
              "#7201a8"
             ],
             [
              0.3333333333333333,
              "#9c179e"
             ],
             [
              0.4444444444444444,
              "#bd3786"
             ],
             [
              0.5555555555555556,
              "#d8576b"
             ],
             [
              0.6666666666666666,
              "#ed7953"
             ],
             [
              0.7777777777777778,
              "#fb9f3a"
             ],
             [
              0.8888888888888888,
              "#fdca26"
             ],
             [
              1,
              "#f0f921"
             ]
            ],
            "type": "surface"
           }
          ],
          "table": [
           {
            "cells": {
             "fill": {
              "color": "#EBF0F8"
             },
             "line": {
              "color": "white"
             }
            },
            "header": {
             "fill": {
              "color": "#C8D4E3"
             },
             "line": {
              "color": "white"
             }
            },
            "type": "table"
           }
          ]
         },
         "layout": {
          "annotationdefaults": {
           "arrowcolor": "#2a3f5f",
           "arrowhead": 0,
           "arrowwidth": 1
          },
          "autotypenumbers": "strict",
          "coloraxis": {
           "colorbar": {
            "outlinewidth": 0,
            "ticks": ""
           }
          },
          "colorscale": {
           "diverging": [
            [
             0,
             "#8e0152"
            ],
            [
             0.1,
             "#c51b7d"
            ],
            [
             0.2,
             "#de77ae"
            ],
            [
             0.3,
             "#f1b6da"
            ],
            [
             0.4,
             "#fde0ef"
            ],
            [
             0.5,
             "#f7f7f7"
            ],
            [
             0.6,
             "#e6f5d0"
            ],
            [
             0.7,
             "#b8e186"
            ],
            [
             0.8,
             "#7fbc41"
            ],
            [
             0.9,
             "#4d9221"
            ],
            [
             1,
             "#276419"
            ]
           ],
           "sequential": [
            [
             0,
             "#0d0887"
            ],
            [
             0.1111111111111111,
             "#46039f"
            ],
            [
             0.2222222222222222,
             "#7201a8"
            ],
            [
             0.3333333333333333,
             "#9c179e"
            ],
            [
             0.4444444444444444,
             "#bd3786"
            ],
            [
             0.5555555555555556,
             "#d8576b"
            ],
            [
             0.6666666666666666,
             "#ed7953"
            ],
            [
             0.7777777777777778,
             "#fb9f3a"
            ],
            [
             0.8888888888888888,
             "#fdca26"
            ],
            [
             1,
             "#f0f921"
            ]
           ],
           "sequentialminus": [
            [
             0,
             "#0d0887"
            ],
            [
             0.1111111111111111,
             "#46039f"
            ],
            [
             0.2222222222222222,
             "#7201a8"
            ],
            [
             0.3333333333333333,
             "#9c179e"
            ],
            [
             0.4444444444444444,
             "#bd3786"
            ],
            [
             0.5555555555555556,
             "#d8576b"
            ],
            [
             0.6666666666666666,
             "#ed7953"
            ],
            [
             0.7777777777777778,
             "#fb9f3a"
            ],
            [
             0.8888888888888888,
             "#fdca26"
            ],
            [
             1,
             "#f0f921"
            ]
           ]
          },
          "colorway": [
           "#636efa",
           "#EF553B",
           "#00cc96",
           "#ab63fa",
           "#FFA15A",
           "#19d3f3",
           "#FF6692",
           "#B6E880",
           "#FF97FF",
           "#FECB52"
          ],
          "font": {
           "color": "#2a3f5f"
          },
          "geo": {
           "bgcolor": "white",
           "lakecolor": "white",
           "landcolor": "#E5ECF6",
           "showlakes": true,
           "showland": true,
           "subunitcolor": "white"
          },
          "hoverlabel": {
           "align": "left"
          },
          "hovermode": "closest",
          "mapbox": {
           "style": "light"
          },
          "paper_bgcolor": "white",
          "plot_bgcolor": "#E5ECF6",
          "polar": {
           "angularaxis": {
            "gridcolor": "white",
            "linecolor": "white",
            "ticks": ""
           },
           "bgcolor": "#E5ECF6",
           "radialaxis": {
            "gridcolor": "white",
            "linecolor": "white",
            "ticks": ""
           }
          },
          "scene": {
           "xaxis": {
            "backgroundcolor": "#E5ECF6",
            "gridcolor": "white",
            "gridwidth": 2,
            "linecolor": "white",
            "showbackground": true,
            "ticks": "",
            "zerolinecolor": "white"
           },
           "yaxis": {
            "backgroundcolor": "#E5ECF6",
            "gridcolor": "white",
            "gridwidth": 2,
            "linecolor": "white",
            "showbackground": true,
            "ticks": "",
            "zerolinecolor": "white"
           },
           "zaxis": {
            "backgroundcolor": "#E5ECF6",
            "gridcolor": "white",
            "gridwidth": 2,
            "linecolor": "white",
            "showbackground": true,
            "ticks": "",
            "zerolinecolor": "white"
           }
          },
          "shapedefaults": {
           "line": {
            "color": "#2a3f5f"
           }
          },
          "ternary": {
           "aaxis": {
            "gridcolor": "white",
            "linecolor": "white",
            "ticks": ""
           },
           "baxis": {
            "gridcolor": "white",
            "linecolor": "white",
            "ticks": ""
           },
           "bgcolor": "#E5ECF6",
           "caxis": {
            "gridcolor": "white",
            "linecolor": "white",
            "ticks": ""
           }
          },
          "title": {
           "x": 0.05
          },
          "xaxis": {
           "automargin": true,
           "gridcolor": "white",
           "linecolor": "white",
           "ticks": "",
           "title": {
            "standoff": 15
           },
           "zerolinecolor": "white",
           "zerolinewidth": 2
          },
          "yaxis": {
           "automargin": true,
           "gridcolor": "white",
           "linecolor": "white",
           "ticks": "",
           "title": {
            "standoff": 15
           },
           "zerolinecolor": "white",
           "zerolinewidth": 2
          }
         }
        },
        "title": {
         "text": "Top 25 Most Common Ingredients"
        },
        "xaxis": {
         "anchor": "y",
         "domain": [
          0,
          1
         ],
         "tickangle": -45,
         "title": {
          "text": "Ingredient"
         }
        },
        "yaxis": {
         "anchor": "x",
         "domain": [
          0,
          1
         ],
         "title": {
          "text": "Frequency"
         }
        }
       }
      }
     },
     "metadata": {},
     "output_type": "display_data"
    }
   ],
   "source": [
    "all_ingredients = []\n",
    "most_used_ingredients_range = 25\n",
    "\n",
    "for index, row in df_recipes.iterrows():\n",
    "    for ingredient in row[\"parsed_ingredients\"]:\n",
    "        ingredient_name = ingredient.split(',')[0]\n",
    "        all_ingredients.append(ingredient_name)\n",
    "\n",
    "ingredient_counts = Counter(all_ingredients)\n",
    "ingredient_df = pd.DataFrame.from_dict(ingredient_counts, orient='index', columns=['frequency'])\n",
    "ingredient_df = ingredient_df.sort_values(by='frequency', ascending=False)\n",
    "\n",
    "most_used_ingredients = ingredient_df.head(most_used_ingredients_range)\n",
    "fig = px.bar(\n",
    "    most_used_ingredients, \n",
    "    x=most_used_ingredients.index, \n",
    "    y='frequency',\n",
    "    title=f'Top {most_used_ingredients_range} Most Common Ingredients',\n",
    "    labels={'x': 'Ingredient', 'frequency': 'Frequency'\n",
    "})\n",
    "\n",
    "fig.update_layout(xaxis_tickangle=-45, xaxis_title='Ingredient', yaxis_title='Frequency', plot_bgcolor='white')\n",
    "fig.show()"
   ]
  },
  {
   "cell_type": "markdown",
   "metadata": {},
   "source": [
    "## Find the X recipes with the least amount of ingredients"
   ]
  },
  {
   "cell_type": "code",
   "execution_count": 12,
   "metadata": {},
   "outputs": [
    {
     "data": {
      "text/html": [
       "<div>\n",
       "<style scoped>\n",
       "    .dataframe tbody tr th:only-of-type {\n",
       "        vertical-align: middle;\n",
       "    }\n",
       "\n",
       "    .dataframe tbody tr th {\n",
       "        vertical-align: top;\n",
       "    }\n",
       "\n",
       "    .dataframe thead th {\n",
       "        text-align: right;\n",
       "    }\n",
       "</style>\n",
       "<table border=\"1\" class=\"dataframe\">\n",
       "  <thead>\n",
       "    <tr style=\"text-align: right;\">\n",
       "      <th></th>\n",
       "      <th>recipe_id</th>\n",
       "      <th>recipe_name</th>\n",
       "      <th>recipe_description</th>\n",
       "      <th>recipe_nutriscore</th>\n",
       "      <th>recipe_ingredients</th>\n",
       "      <th>recipe_reproduction_steps</th>\n",
       "      <th>parsed_ingredients</th>\n",
       "      <th>num_ingredients</th>\n",
       "    </tr>\n",
       "  </thead>\n",
       "  <tbody>\n",
       "    <tr>\n",
       "      <th>329</th>\n",
       "      <td>7881.0</td>\n",
       "      <td>Filet de saumon, tombée de poireau à la moutarde</td>\n",
       "      <td>15 min de préparation et vous voilà avec un délicieux filet de saumon servi avec du poireau revenu à la moutarde et une purée onctueuse, miam !</td>\n",
       "      <td>A</td>\n",
       "      <td>Filets de saumon - Frais Embal (240g - 2 personnes), 240 g, ingredient-7881-2-14390\\nGousse d'ail, 0.5, ingredient-7881-2-9932\\nPoireau, 1, ingredient-7881-2-9710\\nPomme de terre, 3, ingredient-7881-2-10029</td>\n",
       "      <td>Step 1: Epluchez et coupez les pommes de terre en morceaux.\\r\\nDéposez-les dans une casserole et recouvrez-les très largement d'eau. Salez.\\r\\nPortez à ébullition et faites-les cuire 15 à 20 min.\\r\\nRéduisez-les en purée. Salez, poivrez.\\r\\nAjoutez un filet de lait et une noix de beurre pour une purée plus onctueuse.\\r\\nEn parallèle, préparez la tombée de poireau.\\nStep 2: Pressez ou hachez l'ail.\\r\\nCoupez et retirez la base abîmée du poireau. Incisez-le en deux dans la longueur et rincez-le soigneusement. Emincez-le.\\r\\nDans une sauteuse, faites chauffer un filet d'huile d'olive à feu moyen à vif.\\r\\nFaites revenir l'ail et le poireau 10 min environ. Salez, poivrez.\\r\\nA mi-cuisson, ajoutez un fond d'eau et couvrez pour accélérer la cuisson.\\r\\nLorsque le poireau est cuit, ajoutez la moutarde, le beurre et mélangez bien. Goûtez et rectifiez l'assaisonnement si nécessaire.\\r\\nPendant ce temps, faites cuire le saumon.\\nStep 3: Rincez, essuyez le filet de saumon puis découpez-le pour obtenir une portion par personne.Salez et poivrez-le.\\r\\nAstuce : n'hésitez pas à vous aider d'une paire de ciseaux !\\r\\nDans une poêle, faites chauffer un filet d’huile d’olive à feu moyen à vif.\\r\\nFaites dorer les pavés de saumon (côté peau en premier) 2 à 3 min de chaque côté jusqu'à ce qu'il soit cuit à coeur. \\r\\nAstuce : Pour savoir quand retourner le saumon, regardez sur le côté : lorsqu’il est cuit à mi-hauteur, retournez-le !\\nStep 4: Servez sans attendre votre filet de saumon accompagné de la purée et de la tombée de poireau à la moutarde !</td>\n",
       "      <td>{gousse d'ail, pomme de terre, poireau, filets de saumon}</td>\n",
       "      <td>4</td>\n",
       "    </tr>\n",
       "    <tr>\n",
       "      <th>218</th>\n",
       "      <td>9506.0</td>\n",
       "      <td>Filet de saumon à l’huile de coriandre et patate douce</td>\n",
       "      <td>On prépare une huile à la coriandre maison pour assaisonner ce délicieux filet de saumon ! Accompagné de patates douces pour une note sucrée.</td>\n",
       "      <td>A</td>\n",
       "      <td>Coriandre, qq brins, ingredient-9506-2-11352\\nEndive, 1, ingredient-9506-2-10472\\nFilets de saumon - Frais Embal (240g - 2 personnes), 240 g, ingredient-9506-2-14390\\nPatate douce, 2, ingredient-9506-2-9930\\nPomme elstar, 1, ingredient-9506-2-13046</td>\n",
       "      <td>Step 1: Préchauffez votre four à 220°C en chaleur tournante !\\r\\nPendant ce temps, épluchez et coupez les patates douces en fines demi-rondelles. \\r\\nDéposez-les sur une plaque allant au four recouverte de papier cuisson. Versez un filet d'huile d'olive, salez et poivrez. Enfournez 15 min.\\r\\nEn parallèle, préparez le saumon.\\nStep 2: Rincez, essuyez le filet de saumon puis découpez-le pour obtenir une portion par personne. Salez et poivrez-le.\\r\\nAstuce : n'hésitez pas à vous aider d'une paire de ciseaux !\\r\\nAu bout des 15 minutes de cuisson des patates douces, ajoutez les filets de saumon sur les patates douces et enfournez de nouveau 10 min.\\r\\nPendant ce temps, préparez l'huile à la coriandre et la salade. \\nStep 3: Ciselez la coriandre (en entier, les tiges se consomment).\\r\\nDans un bol, mélangez l'huile d'olive et la coriandre. Salez et poivrez. \\r\\nEn parallèle, dans un saladier, déposez les ingrédients suivant : \\r\\nVersez l'huile d'olive et le vinaigre. Salez, poivrez et mélangez bien pour obtenir une vinaigrette.\\r\\nRetirez la base de l'endive. Coupez-la en 2 et retirez la partie centrale dure. Émincez-la.\\r\\nCoupez la pomme en dés.\\nStep 4: Dégustez sans attendre le saumon et les patates douces arrosés d'huile à la coriandre et accompagnés de la salade !</td>\n",
       "      <td>{coriandre, patate douce, pomme elstar, endive, filets de saumon}</td>\n",
       "      <td>5</td>\n",
       "    </tr>\n",
       "  </tbody>\n",
       "</table>\n",
       "</div>"
      ],
      "text/plain": [
       "     recipe_id                                             recipe_name  \\\n",
       "329     7881.0        Filet de saumon, tombée de poireau à la moutarde   \n",
       "218     9506.0  Filet de saumon à l’huile de coriandre et patate douce   \n",
       "\n",
       "                                                                                                                                  recipe_description  \\\n",
       "329  15 min de préparation et vous voilà avec un délicieux filet de saumon servi avec du poireau revenu à la moutarde et une purée onctueuse, miam !   \n",
       "218    On prépare une huile à la coriandre maison pour assaisonner ce délicieux filet de saumon ! Accompagné de patates douces pour une note sucrée.   \n",
       "\n",
       "    recipe_nutriscore  \\\n",
       "329                 A   \n",
       "218                 A   \n",
       "\n",
       "                                                                                                                                                                                                                                           recipe_ingredients  \\\n",
       "329                                            Filets de saumon - Frais Embal (240g - 2 personnes), 240 g, ingredient-7881-2-14390\\nGousse d'ail, 0.5, ingredient-7881-2-9932\\nPoireau, 1, ingredient-7881-2-9710\\nPomme de terre, 3, ingredient-7881-2-10029   \n",
       "218  Coriandre, qq brins, ingredient-9506-2-11352\\nEndive, 1, ingredient-9506-2-10472\\nFilets de saumon - Frais Embal (240g - 2 personnes), 240 g, ingredient-9506-2-14390\\nPatate douce, 2, ingredient-9506-2-9930\\nPomme elstar, 1, ingredient-9506-2-13046   \n",
       "\n",
       "                                                                                                                                                                                                                                                                                                                                                                                                                                                                                                                                                                                                                                                                                                                                                                                                                                                                                                                                                                                                                                                                                                                                                                                                                                                                                                                                                                                                                                                                                                                                                                                               recipe_reproduction_steps  \\\n",
       "329  Step 1: Epluchez et coupez les pommes de terre en morceaux.\\r\\nDéposez-les dans une casserole et recouvrez-les très largement d'eau. Salez.\\r\\nPortez à ébullition et faites-les cuire 15 à 20 min.\\r\\nRéduisez-les en purée. Salez, poivrez.\\r\\nAjoutez un filet de lait et une noix de beurre pour une purée plus onctueuse.\\r\\nEn parallèle, préparez la tombée de poireau.\\nStep 2: Pressez ou hachez l'ail.\\r\\nCoupez et retirez la base abîmée du poireau. Incisez-le en deux dans la longueur et rincez-le soigneusement. Emincez-le.\\r\\nDans une sauteuse, faites chauffer un filet d'huile d'olive à feu moyen à vif.\\r\\nFaites revenir l'ail et le poireau 10 min environ. Salez, poivrez.\\r\\nA mi-cuisson, ajoutez un fond d'eau et couvrez pour accélérer la cuisson.\\r\\nLorsque le poireau est cuit, ajoutez la moutarde, le beurre et mélangez bien. Goûtez et rectifiez l'assaisonnement si nécessaire.\\r\\nPendant ce temps, faites cuire le saumon.\\nStep 3: Rincez, essuyez le filet de saumon puis découpez-le pour obtenir une portion par personne.Salez et poivrez-le.\\r\\nAstuce : n'hésitez pas à vous aider d'une paire de ciseaux !\\r\\nDans une poêle, faites chauffer un filet d’huile d’olive à feu moyen à vif.\\r\\nFaites dorer les pavés de saumon (côté peau en premier) 2 à 3 min de chaque côté jusqu'à ce qu'il soit cuit à coeur. \\r\\nAstuce : Pour savoir quand retourner le saumon, regardez sur le côté : lorsqu’il est cuit à mi-hauteur, retournez-le !\\nStep 4: Servez sans attendre votre filet de saumon accompagné de la purée et de la tombée de poireau à la moutarde !   \n",
       "218                                                                                                                                                                                                                                                                              Step 1: Préchauffez votre four à 220°C en chaleur tournante !\\r\\nPendant ce temps, épluchez et coupez les patates douces en fines demi-rondelles. \\r\\nDéposez-les sur une plaque allant au four recouverte de papier cuisson. Versez un filet d'huile d'olive, salez et poivrez. Enfournez 15 min.\\r\\nEn parallèle, préparez le saumon.\\nStep 2: Rincez, essuyez le filet de saumon puis découpez-le pour obtenir une portion par personne. Salez et poivrez-le.\\r\\nAstuce : n'hésitez pas à vous aider d'une paire de ciseaux !\\r\\nAu bout des 15 minutes de cuisson des patates douces, ajoutez les filets de saumon sur les patates douces et enfournez de nouveau 10 min.\\r\\nPendant ce temps, préparez l'huile à la coriandre et la salade. \\nStep 3: Ciselez la coriandre (en entier, les tiges se consomment).\\r\\nDans un bol, mélangez l'huile d'olive et la coriandre. Salez et poivrez. \\r\\nEn parallèle, dans un saladier, déposez les ingrédients suivant : \\r\\nVersez l'huile d'olive et le vinaigre. Salez, poivrez et mélangez bien pour obtenir une vinaigrette.\\r\\nRetirez la base de l'endive. Coupez-la en 2 et retirez la partie centrale dure. Émincez-la.\\r\\nCoupez la pomme en dés.\\nStep 4: Dégustez sans attendre le saumon et les patates douces arrosés d'huile à la coriandre et accompagnés de la salade !   \n",
       "\n",
       "                                                    parsed_ingredients  \\\n",
       "329          {gousse d'ail, pomme de terre, poireau, filets de saumon}   \n",
       "218  {coriandre, patate douce, pomme elstar, endive, filets de saumon}   \n",
       "\n",
       "     num_ingredients  \n",
       "329                4  \n",
       "218                5  "
      ]
     },
     "execution_count": 12,
     "metadata": {},
     "output_type": "execute_result"
    }
   ],
   "source": [
    "sorted_recipes = df_recipes.sort_values(by='num_ingredients', ascending=True)\n",
    "easiest_recipes_by_ingredients = sorted_recipes.iloc[:2]\n",
    "easiest_recipes_by_ingredients"
   ]
  },
  {
   "cell_type": "markdown",
   "metadata": {},
   "source": [
    "## Find recipes that contains certain aliments (fish, meat, etc..)"
   ]
  },
  {
   "cell_type": "code",
   "execution_count": 13,
   "metadata": {},
   "outputs": [
    {
     "name": "stdout",
     "output_type": "stream",
     "text": [
      "Recipes containing fish: 38\n",
      "Recipes containing meat: 138\n",
      "    recipe_id  \\\n",
      "28    12618.0   \n",
      "46    11862.0   \n",
      "\n",
      "                                                         recipe_name  \n",
      "28                        Tartare de saumon fumé, betterave et pomme  \n",
      "46  Lieu noir meunière à l'orange et risotto d'épeautre à l'estragon  \n"
     ]
    }
   ],
   "source": [
    "fish_keywords = ['poisson', 'saumon', 'merlu', 'cabillaud', 'truite', 'thon', 'bar', 'maquereau', 'dorade', 'sole', 'églefin', 'sardine', 'morue', 'turbot', 'lieu']\n",
    "meat_keywords = ['viande', 'poulet', 'boeuf', 'volaille', 'steak', 'entrecôte', 'porc', 'cochon', 'dinde', 'saucisse', 'lapin']\n",
    "\n",
    "def contains_keywords(ingredients_set, keywords):\n",
    "    keywords = [keyword.lower() for keyword in keywords]\n",
    "    return any(keyword in ingredient for ingredient in ingredients_set for keyword in keywords)\n",
    "\n",
    "df_recipes['contains_fish'] = df_recipes['parsed_ingredients'].apply(lambda x: contains_keywords(x, fish_keywords))\n",
    "df_recipes['contains_meat'] = df_recipes['parsed_ingredients'].apply(lambda x: contains_keywords(x, meat_keywords))\n",
    "\n",
    "print(\"Recipes containing fish:\", df_recipes[df_recipes['contains_fish']].shape[0])\n",
    "print(\"Recipes containing meat:\", df_recipes[df_recipes['contains_meat']].shape[0])\n",
    "\n",
    "print(df_recipes[df_recipes['contains_fish'] == True][[\"recipe_id\", \"recipe_name\"]].head(2))"
   ]
  },
  {
   "cell_type": "markdown",
   "metadata": {},
   "source": [
    "TODO: try cosine similarity or other method ? Jaccard similarity ?"
   ]
  },
  {
   "cell_type": "markdown",
   "metadata": {},
   "source": [
    "## Find similar recipes from a \"Central\" recipe"
   ]
  },
  {
   "cell_type": "code",
   "execution_count": 14,
   "metadata": {},
   "outputs": [
    {
     "name": "stdout",
     "output_type": "stream",
     "text": [
      "     recipe_id  \\\n",
      "306     8399.0   \n",
      "238     9181.0   \n",
      "47     11874.0   \n",
      "61     11522.0   \n",
      "52     12004.0   \n",
      "\n",
      "                                                                            recipe_name  \\\n",
      "306                                     Tarte fine au curry rouge et salsa de coriandre   \n",
      "238                                Salade de boulgour, courgette et poulet au gingembre   \n",
      "47   Curry de céleri-rave au lait de coco et chutney pimenté de courge sucrine du Berry   \n",
      "61                                      Poulet aux champignons et sabayon à la moutarde   \n",
      "52                      Paupiette de dinde à la crème de Cognac et purée de céleri-rave   \n",
      "\n",
      "                                                                                                                                      parsed_ingredients  \\\n",
      "306                             {sucrine, chou rouge, coriandre, fromage blanc, pâte brisée ronde, échalote, sauce curry rouge, mix de haricots égoutté}   \n",
      "238                                               {gingembre, boulgour, citron vert, filet de poulet, pousses d'épinards, échalote, cerfeuil, courgette}   \n",
      "47   {gingembre, lait de coco bio, coriandre, carotte, céleri, lentilles corail, curry madras, piment oiseau, courge sucrine du berry, lamelles de coco}   \n",
      "61                                                {citron jaune, crème liquide, riz basmati bio, filet de poulet, échalote, champignons de paris blancs}   \n",
      "52                                                                            {cognac, crème liquide, céleri, échalote, paupiette de dinde, persil plat}   \n",
      "\n",
      "     shared_ingredients_count  \n",
      "306                         2  \n",
      "238                         2  \n",
      "47                          2  \n",
      "61                          2  \n",
      "52                          2  \n"
     ]
    }
   ],
   "source": [
    "central_recipe_id = 12047\n",
    "central_ingredients = df_recipes.loc[df_recipes['recipe_id'] == central_recipe_id, 'parsed_ingredients'].iloc[0]\n",
    "\n",
    "# Define a function to calculate the number of shared ingredients\n",
    "def calculate_shared_ingredients(ingredients_set, central_ingredients):\n",
    "    return len(ingredients_set.intersection(central_ingredients))\n",
    "\n",
    "# Apply this function across the DataFrame, excluding the central recipe itself\n",
    "df_recipes['shared_ingredients_count'] = df_recipes.apply(lambda row: calculate_shared_ingredients(row['parsed_ingredients'], central_ingredients) if row['recipe_id'] != central_recipe_id else 0, axis=1)\n",
    "\n",
    "# Sort the DataFrame based on 'shared_ingredients_count' to find the most similar recipes\n",
    "similar_recipes = df_recipes[df_recipes['recipe_id'] != central_recipe_id].sort_values(by='shared_ingredients_count', ascending=False)\n",
    "\n",
    "# Display the top similar recipes, excluding the central one\n",
    "print(similar_recipes[['recipe_id', 'recipe_name', 'parsed_ingredients', 'shared_ingredients_count']].head())"
   ]
  },
  {
   "cell_type": "code",
   "execution_count": 17,
   "metadata": {},
   "outputs": [
    {
     "name": "stdout",
     "output_type": "stream",
     "text": [
      "     recipe_id  \\\n",
      "96     10980.0   \n",
      "115    10905.0   \n",
      "117    10698.0   \n",
      "126    10780.0   \n",
      "127    10708.0   \n",
      "128    10696.0   \n",
      "141    10601.0   \n",
      "145    10592.0   \n",
      "149    10563.0   \n",
      "150    10693.0   \n",
      "152    10558.0   \n",
      "159    10466.0   \n",
      "164    10407.0   \n",
      "167    10369.0   \n",
      "169    10522.0   \n",
      "175     9955.0   \n",
      "183    10306.0   \n",
      "204     9917.0   \n",
      "211     9599.0   \n",
      "219     9728.0   \n",
      "226     9708.0   \n",
      "229     9098.0   \n",
      "231     9158.0   \n",
      "233     9205.0   \n",
      "234     9149.0   \n",
      "244     9209.0   \n",
      "249     8975.0   \n",
      "366     7440.0   \n",
      "374     7432.0   \n",
      "\n",
      "                                                                                recipe_name  \\\n",
      "96                     Sabich de patate douce au crémeux d'avocat et pickles d'oignon rouge   \n",
      "115                               Salade de pastèque au maïs grillé et vinaigrette pimentée   \n",
      "117                  Salade de concombre/courgette au piment chipotle, yaourt grec et aneth   \n",
      "126                                           Salade de pastèque grillée, féta et concombre   \n",
      "127                                Salade de pois chiches, nectarine et condiment à la rose   \n",
      "128       Poivrons padron farcis au fromage, poitrine fumée et salade de boulgour au persil   \n",
      "141                                                            Salade estivale et anchoïade   \n",
      "145                                            Salade de couscous aux anchois façon taboulé   \n",
      "149                               Salade de pommes de terre au maquereau et sauce à l'aneth   \n",
      "150                                           Panzanella de pastèque et concombre à la féta   \n",
      "152                               Galette de roquefort au seigle, noix et oignon caramélisé   \n",
      "159                               Filet de poulet à la marocaine et semoule aux fruits secs   \n",
      "164                    Salade de crottin de chèvre pané aux noix et tomates confites maison   \n",
      "167                                      Brochettes halloumi et abricots, taboulé au persil   \n",
      "169                                        Salade d'avocat à l'emmental pané et oeuf mollet   \n",
      "175                            Soupe froide de mangue, lait de coco, concombre et coriandre   \n",
      "183                                             Nuggets de pois chiches, potatoes et salade   \n",
      "204  Cuisse de poulet rôtie, pommes de terre grenaille au four et mayonnaise façon Gribiche   \n",
      "211                               Escalope de dinde et salade Kachumbari (Afrique de l'Est)   \n",
      "219                                           Chipolatas aux herbes et tartare de courgette   \n",
      "226                                           Salade d'effiloché de porc au piment chipotle   \n",
      "229                                                        Champignons luc lac et riz rouge   \n",
      "231                       Filets de poulet et pommes de terre rôties au vinaigre balsamique   \n",
      "233                                      Crostini au crottin de chèvre, framboise et menthe   \n",
      "234                               Bowl mexicain à la dinde, salsa de concombre et coriandre   \n",
      "244                   Salade de patate douce au quinoa croustillant et vinaigrette acidulée   \n",
      "249                                      Tartines de rillettes d'anchois et salade composée   \n",
      "366                                   Koy pa lao de lieu noir (salade de poisson laotienne)   \n",
      "374                                               Salade de mangue, cacahuètes et coriandre   \n",
      "\n",
      "                                                                                                                                                                                    parsed_ingredients  \n",
      "96                                                     {gousse d'ail, pains pitas, tomate, coriandre, fromage blanc, patate douce, noix de pécan, avocat, mélange zaatar, concombre noa, oignon rouge}  \n",
      "115                                                               {épi de maïs, sucrine, citron jaune, tomate, cacahuètes grillées, mini pasteque, piment oiseau, concombre noa, oignon rouge, menthe}  \n",
      "117                                       {gousse d'ail, citron jaune, yaourt grec, sésame doré, sauce soja salée, baguette tradition, piment chipotle, aneth, concombre noa, oignon rouge, courgette}  \n",
      "126                                                                                             {pomme de terre, mini feta bio, mélange de salade, mini pasteque, concombre noa, oignon rouge, menthe}  \n",
      "127                                                         {tomate allongée, concombre noa, eau de rose, concentré de tomates, persil plat, pois chiches bio conserve, nectarine jaune, oignon rouge}  \n",
      "128       {gousse d'ail, oignon rouge, fromage à tartiner ail et fines herbes, citron jaune, poivron padron, tomate allongée, persil plat, poitrine fumée sans nitrites, concombre noa, boulgour gros}  \n",
      "141                                                         {gousse d'ail, anchois marinés au naturel, tomate, baguette tradition, mélange de salade, oignon nouveau, échalote, concombre noa, persil}  \n",
      "145                                                                            {couscous complet bio, anchois marinés au naturel, citron jaune, tomate, cerfeuil, concombre noa, oignon rouge, menthe}  \n",
      "149                                                                                  {tomate, pomme de terre, mayonnaise, carotte, filet de maquereau fumé nature, aneth, concombre noa, oignon rouge}  \n",
      "150                                                                                                   {mini feta bio, baguette tradition, mini pasteque, amandes émondées, concombre noa, persil plat}  \n",
      "152                                                                                               {tomate, mélange de salade, emmental râpé français, concombre noa, oignon rouge, galettes roquefort}  \n",
      "159                                                      {gousse d'ail, couscous complet bio, citron jaune, mélange marocain, mélange de fruits secs arlequin, filet de poulet, concombre noa, menthe}  \n",
      "164                                                                                     {noix sèche, sucrine, tomate, crottin de chèvre, miel, baguette tradition, échalote, concombre noa, chapelure}  \n",
      "167                                                                                                      {boulgour, citron jaune, tomate, abricot, persil plat, halloumi, concombre noa, oignon rouge}  \n",
      "169                                                                           {sucrine, emmental bloc, tomate allongée, avocat, concombre noa, huile d'olive infusée à l'ail, oignon rouge, chapelure}  \n",
      "175                                                                 {pain de campagne tranché, lait de coco bio, coriandre, citron vert, mangue, concombre noa, fromage à tartiner double crème curry}  \n",
      "183                              {gousse d'ail, citron jaune, chapelure panko, pomme de terre, fromage blanc, paprika fumé, mélange de salade, oignon jaune, pois chiches bio conserve, concombre noa}  \n",
      "204                                                                      {herbes de provence, cuisse de poulet, mayonnaise, multifeuille, pomme de terre grenaille, échalote, estragon, concombre noa}  \n",
      "211                                                          {gousse d'ail, escalope de dinde, gingembre, tomate, coriandre, riz basmati bio, citron vert, piment oiseau, concombre noa, oignon rouge}  \n",
      "219                                                            {fromage blanc, oignon jaune, échalote, concombre noa, huile d'olive infusée à l'ail, persil plat, courgette, chipolatas oignon herbes}  \n",
      "226                                                                                             {poivron padron, sucrine, tomate, piment chipotle, échalote, persil, concombre noa, effiloché de porc}  \n",
      "229  {gousse d'ail, oignon rouge, riz basmati bio, citron vert, sauce soja salée, concentré de tomates, poivre de voatsiperifery, oignon jaune, vinaigre de riz, concombre noa, champignon portobello}  \n",
      "231                                                                                         {pomme de terre, filet de poulet, multifeuille, romarin, vinaigre balsamique, concombre noa, oignon rouge}  \n",
      "233                                                                                       {crottin de chèvre, demi, carotte, pousses d'épinards, échalote, concombre noa, coulis de framboise, menthe}  \n",
      "234                                                                                 {escalope de dinde, mélange mexico, coriandre, fromage blanc, riz basmati bio, pomme, concombre noa, oignon rouge}  \n",
      "244                                                                                                {coriandre, patate douce, citron vert, radis rose bio, avocat, quinoa, concombre noa, oignon rouge}  \n",
      "249                                          {anchois marinés au naturel, citron jaune, petits pains de tradition, graines de lin, fromage blanc 7%, multifeuille, pomme, concombre noa, oignon rouge}  \n",
      "366                                                                     {piment oiseau, cébette, haricots verts, échalion, coriandre, citron vert, riz rond blanc, lieu noir, concombre noa, nuoc mam}  \n",
      "374                                                                     {huile de sésame toasté, cacahuètes grillées, chou rouge, coriandre, citron vert, mangue, nouilles udon sèches, concombre noa}  \n"
     ]
    }
   ],
   "source": [
    "# Filter recipes that contain \"concombre\" in their parsed_ingredients\n",
    "concombre_recipes = df_recipes[df_recipes['parsed_ingredients'].apply(lambda ingredients: 'concombre noa' in ingredients)]\n",
    "\n",
    "# Display the filtered DataFrame to see the recipes containing \"concombre\"\n",
    "print(concombre_recipes[['recipe_id', 'recipe_name', 'parsed_ingredients']])"
   ]
  }
 ],
 "metadata": {
  "kernelspec": {
   "display_name": "master_chief",
   "language": "python",
   "name": "python3"
  },
  "language_info": {
   "codemirror_mode": {
    "name": "ipython",
    "version": 3
   },
   "file_extension": ".py",
   "mimetype": "text/x-python",
   "name": "python",
   "nbconvert_exporter": "python",
   "pygments_lexer": "ipython3",
   "version": "3.9.18"
  }
 },
 "nbformat": 4,
 "nbformat_minor": 2
}
