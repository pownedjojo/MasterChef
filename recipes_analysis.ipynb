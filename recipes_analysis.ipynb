{
 "cells": [
  {
   "cell_type": "markdown",
   "metadata": {},
   "source": [
    "## Loading and cleaning the dataset"
   ]
  },
  {
   "cell_type": "code",
   "execution_count": 1,
   "metadata": {},
   "outputs": [
    {
     "data": {
      "text/html": [
       "<div>\n",
       "<style scoped>\n",
       "    .dataframe tbody tr th:only-of-type {\n",
       "        vertical-align: middle;\n",
       "    }\n",
       "\n",
       "    .dataframe tbody tr th {\n",
       "        vertical-align: top;\n",
       "    }\n",
       "\n",
       "    .dataframe thead th {\n",
       "        text-align: right;\n",
       "    }\n",
       "</style>\n",
       "<table border=\"1\" class=\"dataframe\">\n",
       "  <thead>\n",
       "    <tr style=\"text-align: right;\">\n",
       "      <th></th>\n",
       "      <th>recipe_id</th>\n",
       "      <th>num_ingredients</th>\n",
       "    </tr>\n",
       "  </thead>\n",
       "  <tbody>\n",
       "    <tr>\n",
       "      <th>count</th>\n",
       "      <td>18.000000</td>\n",
       "      <td>18.000000</td>\n",
       "    </tr>\n",
       "    <tr>\n",
       "      <th>mean</th>\n",
       "      <td>12436.555556</td>\n",
       "      <td>8.333333</td>\n",
       "    </tr>\n",
       "    <tr>\n",
       "      <th>std</th>\n",
       "      <td>155.453122</td>\n",
       "      <td>1.847096</td>\n",
       "    </tr>\n",
       "    <tr>\n",
       "      <th>min</th>\n",
       "      <td>12197.000000</td>\n",
       "      <td>5.000000</td>\n",
       "    </tr>\n",
       "    <tr>\n",
       "      <th>25%</th>\n",
       "      <td>12332.750000</td>\n",
       "      <td>7.000000</td>\n",
       "    </tr>\n",
       "    <tr>\n",
       "      <th>50%</th>\n",
       "      <td>12415.000000</td>\n",
       "      <td>8.000000</td>\n",
       "    </tr>\n",
       "    <tr>\n",
       "      <th>75%</th>\n",
       "      <td>12608.000000</td>\n",
       "      <td>9.750000</td>\n",
       "    </tr>\n",
       "    <tr>\n",
       "      <th>max</th>\n",
       "      <td>12638.000000</td>\n",
       "      <td>12.000000</td>\n",
       "    </tr>\n",
       "  </tbody>\n",
       "</table>\n",
       "</div>"
      ],
      "text/plain": [
       "          recipe_id  num_ingredients\n",
       "count     18.000000        18.000000\n",
       "mean   12436.555556         8.333333\n",
       "std      155.453122         1.847096\n",
       "min    12197.000000         5.000000\n",
       "25%    12332.750000         7.000000\n",
       "50%    12415.000000         8.000000\n",
       "75%    12608.000000         9.750000\n",
       "max    12638.000000        12.000000"
      ]
     },
     "execution_count": 1,
     "metadata": {},
     "output_type": "execute_result"
    }
   ],
   "source": [
    "import re\n",
    "import pandas as pd\n",
    "from collections import Counter\n",
    "import plotly.express as px\n",
    "\n",
    "pd.set_option('display.max_colwidth', None)\n",
    "\n",
    "df_recipes = pd.read_csv('recipes.csv')\n",
    "df_recipes = df_recipes.drop_duplicates(subset='recipe_id', keep='first')\n",
    "\n",
    "df_recipes['recipe_id'] = pd.to_numeric(df_recipes['recipe_id'], errors='coerce')\n",
    "df_recipes.dropna(subset=['recipe_id'], inplace=True)\n",
    "\n",
    "def remove_text_inside_parentheses(text):\n",
    "    return re.sub(r'\\([^)]*\\)', '', text)\n",
    "\n",
    "## Create column parsed_ingredients\n",
    "df_recipes['parsed_ingredients'] = pd.Series(dtype='object')\n",
    "for index, row in df_recipes.iterrows():\n",
    "    ingredients_list = row['recipe_ingredients'].split('\\n')\n",
    "    cleaned_ingredient_names = set()\n",
    "    for ingredient in ingredients_list:\n",
    "        # Remove text inside parentheses\n",
    "        ingredient = remove_text_inside_parentheses(ingredient)\n",
    "        # Remove text after \"-\" and \":\" then split by ',' and take the first part\n",
    "        ingredient_name = ingredient.split('-')[0].split(':')[0].split(',')[0].lower().strip()\n",
    "        cleaned_ingredient_names.add(ingredient_name)\n",
    "    df_recipes.at[index, 'parsed_ingredients'] = cleaned_ingredient_names\n",
    "\n",
    "## Create column num_unique_ingredients to count the number of ingredients for each recipe\n",
    "df_recipes['num_ingredients'] = df_recipes['parsed_ingredients'].apply(lambda x: len([ingredient for ingredient in x if ingredient]))\n",
    "\n",
    "df_recipes.describe()"
   ]
  },
  {
   "cell_type": "markdown",
   "metadata": {},
   "source": [
    "## Ingredient Frequency Analysis"
   ]
  },
  {
   "cell_type": "code",
   "execution_count": 2,
   "metadata": {},
   "outputs": [
    {
     "data": {
      "application/vnd.plotly.v1+json": {
       "config": {
        "plotlyServerURL": "https://plot.ly"
       },
       "data": [
        {
         "alignmentgroup": "True",
         "hovertemplate": "index=%{x}<br>Frequency=%{y}<extra></extra>",
         "legendgroup": "",
         "marker": {
          "color": "#636efa",
          "pattern": {
           "shape": ""
          }
         },
         "name": "",
         "offsetgroup": "",
         "orientation": "v",
         "showlegend": false,
         "textposition": "auto",
         "type": "bar",
         "x": [
          "gousse d'ail",
          "oignon jaune",
          "carotte",
          "gingembre",
          "parmigiano reggiano râpé",
          "coriandre",
          "fromage blanc",
          "pulpe de tomates",
          "persil plat",
          "riz basmati bio",
          "noix de coco râpée",
          "noix sèche",
          "lait de coco bio",
          "poireau",
          "quinoa blanc",
          "ciboulette",
          "morbier aop au lait cru de vache",
          "farine de blé",
          "crème épaisse",
          "crème liquide",
          "mâche",
          "échalote ronde",
          "pomme",
          "fruit de la passion",
          "navet rond"
         ],
         "xaxis": "x",
         "y": [
          11,
          8,
          8,
          4,
          4,
          3,
          3,
          3,
          3,
          3,
          2,
          2,
          2,
          2,
          2,
          2,
          2,
          2,
          2,
          2,
          2,
          2,
          2,
          2,
          2
         ],
         "yaxis": "y"
        }
       ],
       "layout": {
        "barmode": "relative",
        "legend": {
         "tracegroupgap": 0
        },
        "plot_bgcolor": "white",
        "template": {
         "data": {
          "bar": [
           {
            "error_x": {
             "color": "#2a3f5f"
            },
            "error_y": {
             "color": "#2a3f5f"
            },
            "marker": {
             "line": {
              "color": "#E5ECF6",
              "width": 0.5
             },
             "pattern": {
              "fillmode": "overlay",
              "size": 10,
              "solidity": 0.2
             }
            },
            "type": "bar"
           }
          ],
          "barpolar": [
           {
            "marker": {
             "line": {
              "color": "#E5ECF6",
              "width": 0.5
             },
             "pattern": {
              "fillmode": "overlay",
              "size": 10,
              "solidity": 0.2
             }
            },
            "type": "barpolar"
           }
          ],
          "carpet": [
           {
            "aaxis": {
             "endlinecolor": "#2a3f5f",
             "gridcolor": "white",
             "linecolor": "white",
             "minorgridcolor": "white",
             "startlinecolor": "#2a3f5f"
            },
            "baxis": {
             "endlinecolor": "#2a3f5f",
             "gridcolor": "white",
             "linecolor": "white",
             "minorgridcolor": "white",
             "startlinecolor": "#2a3f5f"
            },
            "type": "carpet"
           }
          ],
          "choropleth": [
           {
            "colorbar": {
             "outlinewidth": 0,
             "ticks": ""
            },
            "type": "choropleth"
           }
          ],
          "contour": [
           {
            "colorbar": {
             "outlinewidth": 0,
             "ticks": ""
            },
            "colorscale": [
             [
              0,
              "#0d0887"
             ],
             [
              0.1111111111111111,
              "#46039f"
             ],
             [
              0.2222222222222222,
              "#7201a8"
             ],
             [
              0.3333333333333333,
              "#9c179e"
             ],
             [
              0.4444444444444444,
              "#bd3786"
             ],
             [
              0.5555555555555556,
              "#d8576b"
             ],
             [
              0.6666666666666666,
              "#ed7953"
             ],
             [
              0.7777777777777778,
              "#fb9f3a"
             ],
             [
              0.8888888888888888,
              "#fdca26"
             ],
             [
              1,
              "#f0f921"
             ]
            ],
            "type": "contour"
           }
          ],
          "contourcarpet": [
           {
            "colorbar": {
             "outlinewidth": 0,
             "ticks": ""
            },
            "type": "contourcarpet"
           }
          ],
          "heatmap": [
           {
            "colorbar": {
             "outlinewidth": 0,
             "ticks": ""
            },
            "colorscale": [
             [
              0,
              "#0d0887"
             ],
             [
              0.1111111111111111,
              "#46039f"
             ],
             [
              0.2222222222222222,
              "#7201a8"
             ],
             [
              0.3333333333333333,
              "#9c179e"
             ],
             [
              0.4444444444444444,
              "#bd3786"
             ],
             [
              0.5555555555555556,
              "#d8576b"
             ],
             [
              0.6666666666666666,
              "#ed7953"
             ],
             [
              0.7777777777777778,
              "#fb9f3a"
             ],
             [
              0.8888888888888888,
              "#fdca26"
             ],
             [
              1,
              "#f0f921"
             ]
            ],
            "type": "heatmap"
           }
          ],
          "heatmapgl": [
           {
            "colorbar": {
             "outlinewidth": 0,
             "ticks": ""
            },
            "colorscale": [
             [
              0,
              "#0d0887"
             ],
             [
              0.1111111111111111,
              "#46039f"
             ],
             [
              0.2222222222222222,
              "#7201a8"
             ],
             [
              0.3333333333333333,
              "#9c179e"
             ],
             [
              0.4444444444444444,
              "#bd3786"
             ],
             [
              0.5555555555555556,
              "#d8576b"
             ],
             [
              0.6666666666666666,
              "#ed7953"
             ],
             [
              0.7777777777777778,
              "#fb9f3a"
             ],
             [
              0.8888888888888888,
              "#fdca26"
             ],
             [
              1,
              "#f0f921"
             ]
            ],
            "type": "heatmapgl"
           }
          ],
          "histogram": [
           {
            "marker": {
             "pattern": {
              "fillmode": "overlay",
              "size": 10,
              "solidity": 0.2
             }
            },
            "type": "histogram"
           }
          ],
          "histogram2d": [
           {
            "colorbar": {
             "outlinewidth": 0,
             "ticks": ""
            },
            "colorscale": [
             [
              0,
              "#0d0887"
             ],
             [
              0.1111111111111111,
              "#46039f"
             ],
             [
              0.2222222222222222,
              "#7201a8"
             ],
             [
              0.3333333333333333,
              "#9c179e"
             ],
             [
              0.4444444444444444,
              "#bd3786"
             ],
             [
              0.5555555555555556,
              "#d8576b"
             ],
             [
              0.6666666666666666,
              "#ed7953"
             ],
             [
              0.7777777777777778,
              "#fb9f3a"
             ],
             [
              0.8888888888888888,
              "#fdca26"
             ],
             [
              1,
              "#f0f921"
             ]
            ],
            "type": "histogram2d"
           }
          ],
          "histogram2dcontour": [
           {
            "colorbar": {
             "outlinewidth": 0,
             "ticks": ""
            },
            "colorscale": [
             [
              0,
              "#0d0887"
             ],
             [
              0.1111111111111111,
              "#46039f"
             ],
             [
              0.2222222222222222,
              "#7201a8"
             ],
             [
              0.3333333333333333,
              "#9c179e"
             ],
             [
              0.4444444444444444,
              "#bd3786"
             ],
             [
              0.5555555555555556,
              "#d8576b"
             ],
             [
              0.6666666666666666,
              "#ed7953"
             ],
             [
              0.7777777777777778,
              "#fb9f3a"
             ],
             [
              0.8888888888888888,
              "#fdca26"
             ],
             [
              1,
              "#f0f921"
             ]
            ],
            "type": "histogram2dcontour"
           }
          ],
          "mesh3d": [
           {
            "colorbar": {
             "outlinewidth": 0,
             "ticks": ""
            },
            "type": "mesh3d"
           }
          ],
          "parcoords": [
           {
            "line": {
             "colorbar": {
              "outlinewidth": 0,
              "ticks": ""
             }
            },
            "type": "parcoords"
           }
          ],
          "pie": [
           {
            "automargin": true,
            "type": "pie"
           }
          ],
          "scatter": [
           {
            "fillpattern": {
             "fillmode": "overlay",
             "size": 10,
             "solidity": 0.2
            },
            "type": "scatter"
           }
          ],
          "scatter3d": [
           {
            "line": {
             "colorbar": {
              "outlinewidth": 0,
              "ticks": ""
             }
            },
            "marker": {
             "colorbar": {
              "outlinewidth": 0,
              "ticks": ""
             }
            },
            "type": "scatter3d"
           }
          ],
          "scattercarpet": [
           {
            "marker": {
             "colorbar": {
              "outlinewidth": 0,
              "ticks": ""
             }
            },
            "type": "scattercarpet"
           }
          ],
          "scattergeo": [
           {
            "marker": {
             "colorbar": {
              "outlinewidth": 0,
              "ticks": ""
             }
            },
            "type": "scattergeo"
           }
          ],
          "scattergl": [
           {
            "marker": {
             "colorbar": {
              "outlinewidth": 0,
              "ticks": ""
             }
            },
            "type": "scattergl"
           }
          ],
          "scattermapbox": [
           {
            "marker": {
             "colorbar": {
              "outlinewidth": 0,
              "ticks": ""
             }
            },
            "type": "scattermapbox"
           }
          ],
          "scatterpolar": [
           {
            "marker": {
             "colorbar": {
              "outlinewidth": 0,
              "ticks": ""
             }
            },
            "type": "scatterpolar"
           }
          ],
          "scatterpolargl": [
           {
            "marker": {
             "colorbar": {
              "outlinewidth": 0,
              "ticks": ""
             }
            },
            "type": "scatterpolargl"
           }
          ],
          "scatterternary": [
           {
            "marker": {
             "colorbar": {
              "outlinewidth": 0,
              "ticks": ""
             }
            },
            "type": "scatterternary"
           }
          ],
          "surface": [
           {
            "colorbar": {
             "outlinewidth": 0,
             "ticks": ""
            },
            "colorscale": [
             [
              0,
              "#0d0887"
             ],
             [
              0.1111111111111111,
              "#46039f"
             ],
             [
              0.2222222222222222,
              "#7201a8"
             ],
             [
              0.3333333333333333,
              "#9c179e"
             ],
             [
              0.4444444444444444,
              "#bd3786"
             ],
             [
              0.5555555555555556,
              "#d8576b"
             ],
             [
              0.6666666666666666,
              "#ed7953"
             ],
             [
              0.7777777777777778,
              "#fb9f3a"
             ],
             [
              0.8888888888888888,
              "#fdca26"
             ],
             [
              1,
              "#f0f921"
             ]
            ],
            "type": "surface"
           }
          ],
          "table": [
           {
            "cells": {
             "fill": {
              "color": "#EBF0F8"
             },
             "line": {
              "color": "white"
             }
            },
            "header": {
             "fill": {
              "color": "#C8D4E3"
             },
             "line": {
              "color": "white"
             }
            },
            "type": "table"
           }
          ]
         },
         "layout": {
          "annotationdefaults": {
           "arrowcolor": "#2a3f5f",
           "arrowhead": 0,
           "arrowwidth": 1
          },
          "autotypenumbers": "strict",
          "coloraxis": {
           "colorbar": {
            "outlinewidth": 0,
            "ticks": ""
           }
          },
          "colorscale": {
           "diverging": [
            [
             0,
             "#8e0152"
            ],
            [
             0.1,
             "#c51b7d"
            ],
            [
             0.2,
             "#de77ae"
            ],
            [
             0.3,
             "#f1b6da"
            ],
            [
             0.4,
             "#fde0ef"
            ],
            [
             0.5,
             "#f7f7f7"
            ],
            [
             0.6,
             "#e6f5d0"
            ],
            [
             0.7,
             "#b8e186"
            ],
            [
             0.8,
             "#7fbc41"
            ],
            [
             0.9,
             "#4d9221"
            ],
            [
             1,
             "#276419"
            ]
           ],
           "sequential": [
            [
             0,
             "#0d0887"
            ],
            [
             0.1111111111111111,
             "#46039f"
            ],
            [
             0.2222222222222222,
             "#7201a8"
            ],
            [
             0.3333333333333333,
             "#9c179e"
            ],
            [
             0.4444444444444444,
             "#bd3786"
            ],
            [
             0.5555555555555556,
             "#d8576b"
            ],
            [
             0.6666666666666666,
             "#ed7953"
            ],
            [
             0.7777777777777778,
             "#fb9f3a"
            ],
            [
             0.8888888888888888,
             "#fdca26"
            ],
            [
             1,
             "#f0f921"
            ]
           ],
           "sequentialminus": [
            [
             0,
             "#0d0887"
            ],
            [
             0.1111111111111111,
             "#46039f"
            ],
            [
             0.2222222222222222,
             "#7201a8"
            ],
            [
             0.3333333333333333,
             "#9c179e"
            ],
            [
             0.4444444444444444,
             "#bd3786"
            ],
            [
             0.5555555555555556,
             "#d8576b"
            ],
            [
             0.6666666666666666,
             "#ed7953"
            ],
            [
             0.7777777777777778,
             "#fb9f3a"
            ],
            [
             0.8888888888888888,
             "#fdca26"
            ],
            [
             1,
             "#f0f921"
            ]
           ]
          },
          "colorway": [
           "#636efa",
           "#EF553B",
           "#00cc96",
           "#ab63fa",
           "#FFA15A",
           "#19d3f3",
           "#FF6692",
           "#B6E880",
           "#FF97FF",
           "#FECB52"
          ],
          "font": {
           "color": "#2a3f5f"
          },
          "geo": {
           "bgcolor": "white",
           "lakecolor": "white",
           "landcolor": "#E5ECF6",
           "showlakes": true,
           "showland": true,
           "subunitcolor": "white"
          },
          "hoverlabel": {
           "align": "left"
          },
          "hovermode": "closest",
          "mapbox": {
           "style": "light"
          },
          "paper_bgcolor": "white",
          "plot_bgcolor": "#E5ECF6",
          "polar": {
           "angularaxis": {
            "gridcolor": "white",
            "linecolor": "white",
            "ticks": ""
           },
           "bgcolor": "#E5ECF6",
           "radialaxis": {
            "gridcolor": "white",
            "linecolor": "white",
            "ticks": ""
           }
          },
          "scene": {
           "xaxis": {
            "backgroundcolor": "#E5ECF6",
            "gridcolor": "white",
            "gridwidth": 2,
            "linecolor": "white",
            "showbackground": true,
            "ticks": "",
            "zerolinecolor": "white"
           },
           "yaxis": {
            "backgroundcolor": "#E5ECF6",
            "gridcolor": "white",
            "gridwidth": 2,
            "linecolor": "white",
            "showbackground": true,
            "ticks": "",
            "zerolinecolor": "white"
           },
           "zaxis": {
            "backgroundcolor": "#E5ECF6",
            "gridcolor": "white",
            "gridwidth": 2,
            "linecolor": "white",
            "showbackground": true,
            "ticks": "",
            "zerolinecolor": "white"
           }
          },
          "shapedefaults": {
           "line": {
            "color": "#2a3f5f"
           }
          },
          "ternary": {
           "aaxis": {
            "gridcolor": "white",
            "linecolor": "white",
            "ticks": ""
           },
           "baxis": {
            "gridcolor": "white",
            "linecolor": "white",
            "ticks": ""
           },
           "bgcolor": "#E5ECF6",
           "caxis": {
            "gridcolor": "white",
            "linecolor": "white",
            "ticks": ""
           }
          },
          "title": {
           "x": 0.05
          },
          "xaxis": {
           "automargin": true,
           "gridcolor": "white",
           "linecolor": "white",
           "ticks": "",
           "title": {
            "standoff": 15
           },
           "zerolinecolor": "white",
           "zerolinewidth": 2
          },
          "yaxis": {
           "automargin": true,
           "gridcolor": "white",
           "linecolor": "white",
           "ticks": "",
           "title": {
            "standoff": 15
           },
           "zerolinecolor": "white",
           "zerolinewidth": 2
          }
         }
        },
        "title": {
         "text": "Top 25 Most Common Ingredients"
        },
        "xaxis": {
         "anchor": "y",
         "domain": [
          0,
          1
         ],
         "tickangle": -45,
         "title": {
          "text": "Ingredient"
         }
        },
        "yaxis": {
         "anchor": "x",
         "domain": [
          0,
          1
         ],
         "title": {
          "text": "Frequency"
         }
        }
       }
      }
     },
     "metadata": {},
     "output_type": "display_data"
    }
   ],
   "source": [
    "all_ingredients = []\n",
    "most_used_ingredients_range = 25\n",
    "\n",
    "for index, row in df_recipes.iterrows():\n",
    "    for ingredient in row[\"parsed_ingredients\"]:\n",
    "        ingredient_name = ingredient.split(',')[0]\n",
    "        all_ingredients.append(ingredient_name)\n",
    "\n",
    "ingredient_counts = Counter(all_ingredients)\n",
    "ingredient_df = pd.DataFrame.from_dict(ingredient_counts, orient='index', columns=['frequency'])\n",
    "ingredient_df = ingredient_df.sort_values(by='frequency', ascending=False)\n",
    "\n",
    "most_used_ingredients = ingredient_df.head(most_used_ingredients_range)\n",
    "fig = px.bar(\n",
    "    most_used_ingredients, \n",
    "    x=most_used_ingredients.index, \n",
    "    y='frequency',\n",
    "    title=f'Top {most_used_ingredients_range} Most Common Ingredients',\n",
    "    labels={'x': 'Ingredient', 'frequency': 'Frequency'\n",
    "})\n",
    "\n",
    "fig.update_layout(xaxis_tickangle=-45, xaxis_title='Ingredient', yaxis_title='Frequency', plot_bgcolor='white')\n",
    "fig.show()"
   ]
  },
  {
   "cell_type": "markdown",
   "metadata": {},
   "source": [
    "## Find the X recipes with the least amount of ingredients"
   ]
  },
  {
   "cell_type": "code",
   "execution_count": 3,
   "metadata": {},
   "outputs": [
    {
     "data": {
      "text/html": [
       "<div>\n",
       "<style scoped>\n",
       "    .dataframe tbody tr th:only-of-type {\n",
       "        vertical-align: middle;\n",
       "    }\n",
       "\n",
       "    .dataframe tbody tr th {\n",
       "        vertical-align: top;\n",
       "    }\n",
       "\n",
       "    .dataframe thead th {\n",
       "        text-align: right;\n",
       "    }\n",
       "</style>\n",
       "<table border=\"1\" class=\"dataframe\">\n",
       "  <thead>\n",
       "    <tr style=\"text-align: right;\">\n",
       "      <th></th>\n",
       "      <th>recipe_id</th>\n",
       "      <th>recipe_name</th>\n",
       "      <th>recipe_description</th>\n",
       "      <th>recipe_nutriscore</th>\n",
       "      <th>recipe_ingredients</th>\n",
       "      <th>recipe_reproduction_steps</th>\n",
       "      <th>parsed_ingredients</th>\n",
       "      <th>num_ingredients</th>\n",
       "    </tr>\n",
       "  </thead>\n",
       "  <tbody>\n",
       "    <tr>\n",
       "      <th>5</th>\n",
       "      <td>12578</td>\n",
       "      <td>Quiche jurassienne au morbier et poireaux</td>\n",
       "      <td>Goûtez à l'authenticité avec notre quiche jurassienne : morbier fondant, poireaux tendres, une symphonie de saveurs à chaque bouchée. Irrésistible !</td>\n",
       "      <td>B</td>\n",
       "      <td>Crème épaisse, 30 mL, ingredient-12578-2-12393\\nMorbier AOP au lait cru de vache, 90 g, ingredient-12578-2-7667\\nMâche, 50, ingredient-12578-2-11347\\nPoireau, 2, ingredient-12578-2-10818\\nPâte brisée ronde - Croustipate (230g), 1, ingredient-12578-2-11334</td>\n",
       "      <td>Step 1: Astuce : Pour éviter que votre pâte ne se réchauffe, sortez-la au dernier moment !\\r\\nPréchauffez votre four à 180°C en chaleur tournante !\\r\\nPendant ce temps, coupez et retirez la base abîmée des poireaux. Incisez-les en deux dans la longueur et rincez-les soigneusement. Émincez-les.\\r\\nDans une sauteuse, faites chauffer un filet d'huile d'olive à feu moyen à vif.\\r\\nFaites revenir les poireaux 10 min environ. Remuez de temps en temps. Salez, poivrez.\\r\\nEn parallèle, préparez la quiche.\\nStep 2: Coupez le morbier en tranches.\\r\\nDans un bol, fouettez les oeufs et la crème. Salez, poivrez.\\r\\nDans un moule à tarte, déroulez la pâte brisée et piquez-la à l'aide d'une fourchette.\\r\\nAjoutez quelques tranches de morbier et les poireaux cuits.\\r\\nVersez l'appareil à oeuf et déposez le reste des tranches de morbier par-dessus.\\r\\nEnfournez 25 min environ.\\r\\nPendant ce temps, assaisonnez la mâche d'un filet d'huile d'olive et de vinaigre.\\nStep 3: Servez sans attendre votre quiche jurassienne au morbier et poireaux accompagnée de la salade !</td>\n",
       "      <td>{poireau, mâche, morbier aop au lait cru de vache, pâte brisée ronde, crème épaisse}</td>\n",
       "      <td>5</td>\n",
       "    </tr>\n",
       "    <tr>\n",
       "      <th>16</th>\n",
       "      <td>12197</td>\n",
       "      <td>Velouté de butternut à la muscade et tartines au délice de Bourgogne à la truffe</td>\n",
       "      <td>Un velouté épicé de muscade et des tartines gourmandes au fromage bourguignon truffé ? Voici un plat réconfortant pour affronter l'hiver !</td>\n",
       "      <td>A</td>\n",
       "      <td>Tranches de pain a la chataigne - Maison Salesse (x4), 4, ingredient-12197-2-16703\\nCarotte, 2, ingredient-12197-2-8763\\nCourge butternut, 300 g, ingredient-12197-2-12444\\nCrème liquide, 100 mL, ingredient-12197-2-12392\\nDélice de Bourgogne truffé, 60 g, ingredient-12197-2-2756\\nMuscade moulue - Sur les quais (3g), 1, ingredient-12197-2-8265</td>\n",
       "      <td>Step 1: Astuce : Pour qu'elle soit plus facile à découper, passez la courge 5 min au micro-ondes à pleine puissance. Ensuite, manipulez-la avec un torchon pour ne pas vous brûler.\\r\\nÉpluchez et coupez le butternut en deux. Retirez les graines à l'aide d'une cuillère. Coupez-le en tranches puis taillez celles-ci en dés.\\r\\nEpluchez et coupez les carottes en morceaux.\\r\\nDans une grande casserole, déposez les légumes et versez de l'eau à hauteur de la garniture.\\r\\nPortez à ébullition et faites cuire 15 à 20 min jusqu'à ce que les légumes soient tendres.\\r\\nUne fois cuits, à l’aide d’un mixeur, mixez le tout jusqu'à obtenir une texture homogène.\\r\\nAstuce : ajoutez plus ou moins selon la texture souhaitée.\\r\\nAjoutez la crème, la muscade et mélangez bien. Salez, poivrez.\\r\\nGoûtez et rectifiez l'assaisonnement si nécessaire.\\r\\nEn parallèle, préparez les tartines.\\nStep 2: Faites dorer les tranches de pain au grille-pain.\\r\\nPendant ce temps, coupez le délice de Bourgogne en tranches.\\r\\nUne fois le pain doré, déposez les tranches de fromage sur les tartines.\\nStep 3: Servez sans attendre votre velouté de butternut à la muscade accompagné des tartines au délice de Bourgogne !</td>\n",
       "      <td>{muscade moulue, carotte, tranches de pain a la chataigne, crème liquide, courge butternut, délice de bourgogne truffé}</td>\n",
       "      <td>6</td>\n",
       "    </tr>\n",
       "  </tbody>\n",
       "</table>\n",
       "</div>"
      ],
      "text/plain": [
       "    recipe_id  \\\n",
       "5       12578   \n",
       "16      12197   \n",
       "\n",
       "                                                                         recipe_name  \\\n",
       "5                                          Quiche jurassienne au morbier et poireaux   \n",
       "16  Velouté de butternut à la muscade et tartines au délice de Bourgogne à la truffe   \n",
       "\n",
       "                                                                                                                                      recipe_description  \\\n",
       "5   Goûtez à l'authenticité avec notre quiche jurassienne : morbier fondant, poireaux tendres, une symphonie de saveurs à chaque bouchée. Irrésistible !   \n",
       "16            Un velouté épicé de muscade et des tartines gourmandes au fromage bourguignon truffé ? Voici un plat réconfortant pour affronter l'hiver !   \n",
       "\n",
       "   recipe_nutriscore  \\\n",
       "5                  B   \n",
       "16                 A   \n",
       "\n",
       "                                                                                                                                                                                                                                                                                                                                         recipe_ingredients  \\\n",
       "5                                                                                           Crème épaisse, 30 mL, ingredient-12578-2-12393\\nMorbier AOP au lait cru de vache, 90 g, ingredient-12578-2-7667\\nMâche, 50, ingredient-12578-2-11347\\nPoireau, 2, ingredient-12578-2-10818\\nPâte brisée ronde - Croustipate (230g), 1, ingredient-12578-2-11334   \n",
       "16  Tranches de pain a la chataigne - Maison Salesse (x4), 4, ingredient-12197-2-16703\\nCarotte, 2, ingredient-12197-2-8763\\nCourge butternut, 300 g, ingredient-12197-2-12444\\nCrème liquide, 100 mL, ingredient-12197-2-12392\\nDélice de Bourgogne truffé, 60 g, ingredient-12197-2-2756\\nMuscade moulue - Sur les quais (3g), 1, ingredient-12197-2-8265   \n",
       "\n",
       "                                                                                                                                                                                                                                                                                                                                                                                                                                                                                                                                                                                                                                                                                                                                                                                                                                                                                                                                                                                                                                                                                                                                                                                                                    recipe_reproduction_steps  \\\n",
       "5                                                                                                                                      Step 1: Astuce : Pour éviter que votre pâte ne se réchauffe, sortez-la au dernier moment !\\r\\nPréchauffez votre four à 180°C en chaleur tournante !\\r\\nPendant ce temps, coupez et retirez la base abîmée des poireaux. Incisez-les en deux dans la longueur et rincez-les soigneusement. Émincez-les.\\r\\nDans une sauteuse, faites chauffer un filet d'huile d'olive à feu moyen à vif.\\r\\nFaites revenir les poireaux 10 min environ. Remuez de temps en temps. Salez, poivrez.\\r\\nEn parallèle, préparez la quiche.\\nStep 2: Coupez le morbier en tranches.\\r\\nDans un bol, fouettez les oeufs et la crème. Salez, poivrez.\\r\\nDans un moule à tarte, déroulez la pâte brisée et piquez-la à l'aide d'une fourchette.\\r\\nAjoutez quelques tranches de morbier et les poireaux cuits.\\r\\nVersez l'appareil à oeuf et déposez le reste des tranches de morbier par-dessus.\\r\\nEnfournez 25 min environ.\\r\\nPendant ce temps, assaisonnez la mâche d'un filet d'huile d'olive et de vinaigre.\\nStep 3: Servez sans attendre votre quiche jurassienne au morbier et poireaux accompagnée de la salade !   \n",
       "16  Step 1: Astuce : Pour qu'elle soit plus facile à découper, passez la courge 5 min au micro-ondes à pleine puissance. Ensuite, manipulez-la avec un torchon pour ne pas vous brûler.\\r\\nÉpluchez et coupez le butternut en deux. Retirez les graines à l'aide d'une cuillère. Coupez-le en tranches puis taillez celles-ci en dés.\\r\\nEpluchez et coupez les carottes en morceaux.\\r\\nDans une grande casserole, déposez les légumes et versez de l'eau à hauteur de la garniture.\\r\\nPortez à ébullition et faites cuire 15 à 20 min jusqu'à ce que les légumes soient tendres.\\r\\nUne fois cuits, à l’aide d’un mixeur, mixez le tout jusqu'à obtenir une texture homogène.\\r\\nAstuce : ajoutez plus ou moins selon la texture souhaitée.\\r\\nAjoutez la crème, la muscade et mélangez bien. Salez, poivrez.\\r\\nGoûtez et rectifiez l'assaisonnement si nécessaire.\\r\\nEn parallèle, préparez les tartines.\\nStep 2: Faites dorer les tranches de pain au grille-pain.\\r\\nPendant ce temps, coupez le délice de Bourgogne en tranches.\\r\\nUne fois le pain doré, déposez les tranches de fromage sur les tartines.\\nStep 3: Servez sans attendre votre velouté de butternut à la muscade accompagné des tartines au délice de Bourgogne !   \n",
       "\n",
       "                                                                                                         parsed_ingredients  \\\n",
       "5                                      {poireau, mâche, morbier aop au lait cru de vache, pâte brisée ronde, crème épaisse}   \n",
       "16  {muscade moulue, carotte, tranches de pain a la chataigne, crème liquide, courge butternut, délice de bourgogne truffé}   \n",
       "\n",
       "    num_ingredients  \n",
       "5                 5  \n",
       "16                6  "
      ]
     },
     "execution_count": 3,
     "metadata": {},
     "output_type": "execute_result"
    }
   ],
   "source": [
    "sorted_recipes = df_recipes.sort_values(by='num_ingredients', ascending=True)\n",
    "easiest_recipes_by_ingredients = sorted_recipes.iloc[:2]\n",
    "easiest_recipes_by_ingredients"
   ]
  },
  {
   "cell_type": "markdown",
   "metadata": {},
   "source": [
    "## Find recipes that contains certain aliments (fish, meat, etc..)"
   ]
  },
  {
   "cell_type": "code",
   "execution_count": 4,
   "metadata": {},
   "outputs": [
    {
     "name": "stdout",
     "output_type": "stream",
     "text": [
      "Recipes containing fish: 1\n",
      "Recipes containing meat: 5\n",
      "   recipe_id                                 recipe_name\n",
      "1      12618  Tartare de saumon fumé, betterave et pomme\n"
     ]
    }
   ],
   "source": [
    "fish_keywords = ['poisson', 'saumon', 'merlu', 'cabillaud', 'truite', 'thon', 'bar', 'maquereau', 'dorade', 'sole', 'églefin', 'sardine', 'morue', 'turbot', 'lieu']\n",
    "meat_keywords = ['viande', 'poulet', 'boeuf', 'volaille', 'steak', 'entrecôte', 'porc', 'cochon', 'dinde', 'saucisse', 'lapin']\n",
    "\n",
    "def contains_keywords(ingredients_set, keywords):\n",
    "    keywords = [keyword.lower() for keyword in keywords]\n",
    "    return any(keyword in ingredient for ingredient in ingredients_set for keyword in keywords)\n",
    "\n",
    "df_recipes['contains_fish'] = df_recipes['parsed_ingredients'].apply(lambda x: contains_keywords(x, fish_keywords))\n",
    "df_recipes['contains_meat'] = df_recipes['parsed_ingredients'].apply(lambda x: contains_keywords(x, meat_keywords))\n",
    "\n",
    "print(\"Recipes containing fish:\", df_recipes[df_recipes['contains_fish']].shape[0])\n",
    "print(\"Recipes containing meat:\", df_recipes[df_recipes['contains_meat']].shape[0])\n",
    "\n",
    "print(df_recipes[df_recipes['contains_fish'] == True][[\"recipe_id\", \"recipe_name\"]].head(2))"
   ]
  },
  {
   "cell_type": "markdown",
   "metadata": {},
   "source": [
    "TODO: try cosine similarity or other method ? Jaccard similarity ?"
   ]
  },
  {
   "cell_type": "markdown",
   "metadata": {},
   "source": [
    "## Find similar recipes from a \"Central\" recipe"
   ]
  },
  {
   "cell_type": "code",
   "execution_count": 5,
   "metadata": {},
   "outputs": [
    {
     "ename": "IndexError",
     "evalue": "single positional indexer is out-of-bounds",
     "output_type": "error",
     "traceback": [
      "\u001b[0;31m---------------------------------------------------------------------------\u001b[0m",
      "\u001b[0;31mIndexError\u001b[0m                                Traceback (most recent call last)",
      "Cell \u001b[0;32mIn[5], line 2\u001b[0m\n\u001b[1;32m      1\u001b[0m central_recipe_id \u001b[38;5;241m=\u001b[39m \u001b[38;5;241m12047\u001b[39m\n\u001b[0;32m----> 2\u001b[0m central_ingredients \u001b[38;5;241m=\u001b[39m \u001b[43mdf_recipes\u001b[49m\u001b[38;5;241;43m.\u001b[39;49m\u001b[43mloc\u001b[49m\u001b[43m[\u001b[49m\u001b[43mdf_recipes\u001b[49m\u001b[43m[\u001b[49m\u001b[38;5;124;43m'\u001b[39;49m\u001b[38;5;124;43mrecipe_id\u001b[39;49m\u001b[38;5;124;43m'\u001b[39;49m\u001b[43m]\u001b[49m\u001b[43m \u001b[49m\u001b[38;5;241;43m==\u001b[39;49m\u001b[43m \u001b[49m\u001b[43mcentral_recipe_id\u001b[49m\u001b[43m,\u001b[49m\u001b[43m \u001b[49m\u001b[38;5;124;43m'\u001b[39;49m\u001b[38;5;124;43mparsed_ingredients\u001b[39;49m\u001b[38;5;124;43m'\u001b[39;49m\u001b[43m]\u001b[49m\u001b[38;5;241;43m.\u001b[39;49m\u001b[43miloc\u001b[49m\u001b[43m[\u001b[49m\u001b[38;5;241;43m0\u001b[39;49m\u001b[43m]\u001b[49m\n\u001b[1;32m      4\u001b[0m \u001b[38;5;66;03m# Define a function to calculate the number of shared ingredients\u001b[39;00m\n\u001b[1;32m      5\u001b[0m \u001b[38;5;28;01mdef\u001b[39;00m \u001b[38;5;21mcalculate_shared_ingredients\u001b[39m(ingredients_set, central_ingredients):\n",
      "File \u001b[0;32m~/miniconda3/envs/lotosports/lib/python3.9/site-packages/pandas/core/indexing.py:1153\u001b[0m, in \u001b[0;36m_LocationIndexer.__getitem__\u001b[0;34m(self, key)\u001b[0m\n\u001b[1;32m   1150\u001b[0m axis \u001b[38;5;241m=\u001b[39m \u001b[38;5;28mself\u001b[39m\u001b[38;5;241m.\u001b[39maxis \u001b[38;5;129;01mor\u001b[39;00m \u001b[38;5;241m0\u001b[39m\n\u001b[1;32m   1152\u001b[0m maybe_callable \u001b[38;5;241m=\u001b[39m com\u001b[38;5;241m.\u001b[39mapply_if_callable(key, \u001b[38;5;28mself\u001b[39m\u001b[38;5;241m.\u001b[39mobj)\n\u001b[0;32m-> 1153\u001b[0m \u001b[38;5;28;01mreturn\u001b[39;00m \u001b[38;5;28;43mself\u001b[39;49m\u001b[38;5;241;43m.\u001b[39;49m\u001b[43m_getitem_axis\u001b[49m\u001b[43m(\u001b[49m\u001b[43mmaybe_callable\u001b[49m\u001b[43m,\u001b[49m\u001b[43m \u001b[49m\u001b[43maxis\u001b[49m\u001b[38;5;241;43m=\u001b[39;49m\u001b[43maxis\u001b[49m\u001b[43m)\u001b[49m\n",
      "File \u001b[0;32m~/miniconda3/envs/lotosports/lib/python3.9/site-packages/pandas/core/indexing.py:1714\u001b[0m, in \u001b[0;36m_iLocIndexer._getitem_axis\u001b[0;34m(self, key, axis)\u001b[0m\n\u001b[1;32m   1711\u001b[0m     \u001b[38;5;28;01mraise\u001b[39;00m \u001b[38;5;167;01mTypeError\u001b[39;00m(\u001b[38;5;124m\"\u001b[39m\u001b[38;5;124mCannot index by location index with a non-integer key\u001b[39m\u001b[38;5;124m\"\u001b[39m)\n\u001b[1;32m   1713\u001b[0m \u001b[38;5;66;03m# validate the location\u001b[39;00m\n\u001b[0;32m-> 1714\u001b[0m \u001b[38;5;28;43mself\u001b[39;49m\u001b[38;5;241;43m.\u001b[39;49m\u001b[43m_validate_integer\u001b[49m\u001b[43m(\u001b[49m\u001b[43mkey\u001b[49m\u001b[43m,\u001b[49m\u001b[43m \u001b[49m\u001b[43maxis\u001b[49m\u001b[43m)\u001b[49m\n\u001b[1;32m   1716\u001b[0m \u001b[38;5;28;01mreturn\u001b[39;00m \u001b[38;5;28mself\u001b[39m\u001b[38;5;241m.\u001b[39mobj\u001b[38;5;241m.\u001b[39m_ixs(key, axis\u001b[38;5;241m=\u001b[39maxis)\n",
      "File \u001b[0;32m~/miniconda3/envs/lotosports/lib/python3.9/site-packages/pandas/core/indexing.py:1647\u001b[0m, in \u001b[0;36m_iLocIndexer._validate_integer\u001b[0;34m(self, key, axis)\u001b[0m\n\u001b[1;32m   1645\u001b[0m len_axis \u001b[38;5;241m=\u001b[39m \u001b[38;5;28mlen\u001b[39m(\u001b[38;5;28mself\u001b[39m\u001b[38;5;241m.\u001b[39mobj\u001b[38;5;241m.\u001b[39m_get_axis(axis))\n\u001b[1;32m   1646\u001b[0m \u001b[38;5;28;01mif\u001b[39;00m key \u001b[38;5;241m>\u001b[39m\u001b[38;5;241m=\u001b[39m len_axis \u001b[38;5;129;01mor\u001b[39;00m key \u001b[38;5;241m<\u001b[39m \u001b[38;5;241m-\u001b[39mlen_axis:\n\u001b[0;32m-> 1647\u001b[0m     \u001b[38;5;28;01mraise\u001b[39;00m \u001b[38;5;167;01mIndexError\u001b[39;00m(\u001b[38;5;124m\"\u001b[39m\u001b[38;5;124msingle positional indexer is out-of-bounds\u001b[39m\u001b[38;5;124m\"\u001b[39m)\n",
      "\u001b[0;31mIndexError\u001b[0m: single positional indexer is out-of-bounds"
     ]
    }
   ],
   "source": [
    "central_recipe_id = 12047\n",
    "central_ingredients = df_recipes.loc[df_recipes['recipe_id'] == central_recipe_id, 'parsed_ingredients'].iloc[0]\n",
    "\n",
    "# Define a function to calculate the number of shared ingredients\n",
    "def calculate_shared_ingredients(ingredients_set, central_ingredients):\n",
    "    return len(ingredients_set.intersection(central_ingredients))\n",
    "\n",
    "# Apply this function across the DataFrame, excluding the central recipe itself\n",
    "df_recipes['shared_ingredients_count'] = df_recipes.apply(lambda row: calculate_shared_ingredients(row['parsed_ingredients'], central_ingredients) if row['recipe_id'] != central_recipe_id else 0, axis=1)\n",
    "\n",
    "# Sort the DataFrame based on 'shared_ingredients_count' to find the most similar recipes\n",
    "similar_recipes = df_recipes[df_recipes['recipe_id'] != central_recipe_id].sort_values(by='shared_ingredients_count', ascending=False)\n",
    "\n",
    "# Display the top similar recipes, excluding the central one\n",
    "print(similar_recipes[['recipe_id', 'recipe_name', 'parsed_ingredients', 'shared_ingredients_count']].head())"
   ]
  },
  {
   "cell_type": "code",
   "execution_count": null,
   "metadata": {},
   "outputs": [
    {
     "name": "stdout",
     "output_type": "stream",
     "text": [
      "     recipe_id  \\\n",
      "96     10980.0   \n",
      "115    10905.0   \n",
      "117    10698.0   \n",
      "126    10780.0   \n",
      "127    10708.0   \n",
      "128    10696.0   \n",
      "141    10601.0   \n",
      "145    10592.0   \n",
      "149    10563.0   \n",
      "150    10693.0   \n",
      "152    10558.0   \n",
      "159    10466.0   \n",
      "164    10407.0   \n",
      "167    10369.0   \n",
      "169    10522.0   \n",
      "175     9955.0   \n",
      "183    10306.0   \n",
      "204     9917.0   \n",
      "211     9599.0   \n",
      "219     9728.0   \n",
      "226     9708.0   \n",
      "229     9098.0   \n",
      "231     9158.0   \n",
      "233     9205.0   \n",
      "234     9149.0   \n",
      "244     9209.0   \n",
      "249     8975.0   \n",
      "366     7440.0   \n",
      "374     7432.0   \n",
      "\n",
      "                                                                                recipe_name  \\\n",
      "96                     Sabich de patate douce au crémeux d'avocat et pickles d'oignon rouge   \n",
      "115                               Salade de pastèque au maïs grillé et vinaigrette pimentée   \n",
      "117                  Salade de concombre/courgette au piment chipotle, yaourt grec et aneth   \n",
      "126                                           Salade de pastèque grillée, féta et concombre   \n",
      "127                                Salade de pois chiches, nectarine et condiment à la rose   \n",
      "128       Poivrons padron farcis au fromage, poitrine fumée et salade de boulgour au persil   \n",
      "141                                                            Salade estivale et anchoïade   \n",
      "145                                            Salade de couscous aux anchois façon taboulé   \n",
      "149                               Salade de pommes de terre au maquereau et sauce à l'aneth   \n",
      "150                                           Panzanella de pastèque et concombre à la féta   \n",
      "152                               Galette de roquefort au seigle, noix et oignon caramélisé   \n",
      "159                               Filet de poulet à la marocaine et semoule aux fruits secs   \n",
      "164                    Salade de crottin de chèvre pané aux noix et tomates confites maison   \n",
      "167                                      Brochettes halloumi et abricots, taboulé au persil   \n",
      "169                                        Salade d'avocat à l'emmental pané et oeuf mollet   \n",
      "175                            Soupe froide de mangue, lait de coco, concombre et coriandre   \n",
      "183                                             Nuggets de pois chiches, potatoes et salade   \n",
      "204  Cuisse de poulet rôtie, pommes de terre grenaille au four et mayonnaise façon Gribiche   \n",
      "211                               Escalope de dinde et salade Kachumbari (Afrique de l'Est)   \n",
      "219                                           Chipolatas aux herbes et tartare de courgette   \n",
      "226                                           Salade d'effiloché de porc au piment chipotle   \n",
      "229                                                        Champignons luc lac et riz rouge   \n",
      "231                       Filets de poulet et pommes de terre rôties au vinaigre balsamique   \n",
      "233                                      Crostini au crottin de chèvre, framboise et menthe   \n",
      "234                               Bowl mexicain à la dinde, salsa de concombre et coriandre   \n",
      "244                   Salade de patate douce au quinoa croustillant et vinaigrette acidulée   \n",
      "249                                      Tartines de rillettes d'anchois et salade composée   \n",
      "366                                   Koy pa lao de lieu noir (salade de poisson laotienne)   \n",
      "374                                               Salade de mangue, cacahuètes et coriandre   \n",
      "\n",
      "                                                                                                                                                                                    parsed_ingredients  \n",
      "96                                                     {gousse d'ail, pains pitas, tomate, coriandre, fromage blanc, patate douce, noix de pécan, avocat, mélange zaatar, concombre noa, oignon rouge}  \n",
      "115                                                               {épi de maïs, sucrine, citron jaune, tomate, cacahuètes grillées, mini pasteque, piment oiseau, concombre noa, oignon rouge, menthe}  \n",
      "117                                       {gousse d'ail, citron jaune, yaourt grec, sésame doré, sauce soja salée, baguette tradition, piment chipotle, aneth, concombre noa, oignon rouge, courgette}  \n",
      "126                                                                                             {pomme de terre, mini feta bio, mélange de salade, mini pasteque, concombre noa, oignon rouge, menthe}  \n",
      "127                                                         {tomate allongée, concombre noa, eau de rose, concentré de tomates, persil plat, pois chiches bio conserve, nectarine jaune, oignon rouge}  \n",
      "128       {gousse d'ail, oignon rouge, fromage à tartiner ail et fines herbes, citron jaune, poivron padron, tomate allongée, persil plat, poitrine fumée sans nitrites, concombre noa, boulgour gros}  \n",
      "141                                                         {gousse d'ail, anchois marinés au naturel, tomate, baguette tradition, mélange de salade, oignon nouveau, échalote, concombre noa, persil}  \n",
      "145                                                                            {couscous complet bio, anchois marinés au naturel, citron jaune, tomate, cerfeuil, concombre noa, oignon rouge, menthe}  \n",
      "149                                                                                  {tomate, pomme de terre, mayonnaise, carotte, filet de maquereau fumé nature, aneth, concombre noa, oignon rouge}  \n",
      "150                                                                                                   {mini feta bio, baguette tradition, mini pasteque, amandes émondées, concombre noa, persil plat}  \n",
      "152                                                                                               {tomate, mélange de salade, emmental râpé français, concombre noa, oignon rouge, galettes roquefort}  \n",
      "159                                                      {gousse d'ail, couscous complet bio, citron jaune, mélange marocain, mélange de fruits secs arlequin, filet de poulet, concombre noa, menthe}  \n",
      "164                                                                                     {noix sèche, sucrine, tomate, crottin de chèvre, miel, baguette tradition, échalote, concombre noa, chapelure}  \n",
      "167                                                                                                      {boulgour, citron jaune, tomate, abricot, persil plat, halloumi, concombre noa, oignon rouge}  \n",
      "169                                                                           {sucrine, emmental bloc, tomate allongée, avocat, concombre noa, huile d'olive infusée à l'ail, oignon rouge, chapelure}  \n",
      "175                                                                 {pain de campagne tranché, lait de coco bio, coriandre, citron vert, mangue, concombre noa, fromage à tartiner double crème curry}  \n",
      "183                              {gousse d'ail, citron jaune, chapelure panko, pomme de terre, fromage blanc, paprika fumé, mélange de salade, oignon jaune, pois chiches bio conserve, concombre noa}  \n",
      "204                                                                      {herbes de provence, cuisse de poulet, mayonnaise, multifeuille, pomme de terre grenaille, échalote, estragon, concombre noa}  \n",
      "211                                                          {gousse d'ail, escalope de dinde, gingembre, tomate, coriandre, riz basmati bio, citron vert, piment oiseau, concombre noa, oignon rouge}  \n",
      "219                                                            {fromage blanc, oignon jaune, échalote, concombre noa, huile d'olive infusée à l'ail, persil plat, courgette, chipolatas oignon herbes}  \n",
      "226                                                                                             {poivron padron, sucrine, tomate, piment chipotle, échalote, persil, concombre noa, effiloché de porc}  \n",
      "229  {gousse d'ail, oignon rouge, riz basmati bio, citron vert, sauce soja salée, concentré de tomates, poivre de voatsiperifery, oignon jaune, vinaigre de riz, concombre noa, champignon portobello}  \n",
      "231                                                                                         {pomme de terre, filet de poulet, multifeuille, romarin, vinaigre balsamique, concombre noa, oignon rouge}  \n",
      "233                                                                                       {crottin de chèvre, demi, carotte, pousses d'épinards, échalote, concombre noa, coulis de framboise, menthe}  \n",
      "234                                                                                 {escalope de dinde, mélange mexico, coriandre, fromage blanc, riz basmati bio, pomme, concombre noa, oignon rouge}  \n",
      "244                                                                                                {coriandre, patate douce, citron vert, radis rose bio, avocat, quinoa, concombre noa, oignon rouge}  \n",
      "249                                          {anchois marinés au naturel, citron jaune, petits pains de tradition, graines de lin, fromage blanc 7%, multifeuille, pomme, concombre noa, oignon rouge}  \n",
      "366                                                                     {piment oiseau, cébette, haricots verts, échalion, coriandre, citron vert, riz rond blanc, lieu noir, concombre noa, nuoc mam}  \n",
      "374                                                                     {huile de sésame toasté, cacahuètes grillées, chou rouge, coriandre, citron vert, mangue, nouilles udon sèches, concombre noa}  \n"
     ]
    }
   ],
   "source": [
    "# Filter recipes that contain \"concombre\" in their parsed_ingredients\n",
    "concombre_recipes = df_recipes[df_recipes['parsed_ingredients'].apply(lambda ingredients: 'concombre noa' in ingredients)]\n",
    "\n",
    "# Display the filtered DataFrame to see the recipes containing \"concombre\"\n",
    "print(concombre_recipes[['recipe_id', 'recipe_name', 'parsed_ingredients']])"
   ]
  }
 ],
 "metadata": {
  "kernelspec": {
   "display_name": "master_chief",
   "language": "python",
   "name": "python3"
  },
  "language_info": {
   "codemirror_mode": {
    "name": "ipython",
    "version": 3
   },
   "file_extension": ".py",
   "mimetype": "text/x-python",
   "name": "python",
   "nbconvert_exporter": "python",
   "pygments_lexer": "ipython3",
   "version": "3.9.18"
  }
 },
 "nbformat": 4,
 "nbformat_minor": 2
}
